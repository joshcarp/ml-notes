{
 "cells": [
  {
   "cell_type": "markdown",
   "metadata": {},
   "source": [
    "# Higher-Order Abstract Reasoning Examples\n",
    "\n",
    ":::{warning}\n",
    "This is in progress.\n",
    ":::"
   ]
  },
  {
   "cell_type": "markdown",
   "metadata": {},
   "source": [
    "## 1. Pattern Recognition and Sequence Generation\n",
    "\n",
    "Let's explore how we can identify and generate abstract patterns."
   ]
  },
  {
   "cell_type": "code",
   "execution_count": null,
   "metadata": {},
   "outputs": [],
   "source": [
    "def generate_fibonacci_like(seed1, seed2, operation, n):\n",
    "    \"\"\"Generate a sequence where each number is derived from the previous two numbers using a custom operation.\n",
    "    \n",
    "    Args:\n",
    "        seed1 (number): First seed number\n",
    "        seed2 (number): Second seed number\n",
    "        operation (function): Function that takes two numbers and returns a number\n",
    "        n (int): Length of sequence to generate\n",
    "        \n",
    "    Returns:\n",
    "        list: Generated sequence\n",
    "    \"\"\"\n",
    "    sequence = [seed1, seed2]\n",
    "    \n",
    "    for _ in range(n - 2):\n",
    "        next_num = operation(sequence[-1], sequence[-2])\n",
    "        sequence.append(next_num)\n",
    "        \n",
    "    return sequence"
   ]
  },
  {
   "cell_type": "code",
   "execution_count": null,
   "metadata": {},
   "outputs": [],
   "source": [
    "# Different pattern examples\n",
    "fibonacci = generate_fibonacci_like(1, 1, lambda x, y: x + y, 10)\n",
    "geometric = generate_fibonacci_like(1, 2, lambda x, y: x * 2, 10)\n",
    "custom = generate_fibonacci_like(1, 2, lambda x, y: x**2 % (y + 1), 10)\n",
    "\n",
    "print(\"Fibonacci-like:\", fibonacci)\n",
    "print(\"Geometric-like:\", geometric)\n",
    "print(\"Custom pattern:\", custom)"
   ]
  },
  {
   "cell_type": "markdown",
   "metadata": {},
   "source": [
    "## 2. Analogical Reasoning\n",
    "\n",
    "Implementing a simple system for analogical reasoning."
   ]
  },
  {
   "cell_type": "code",
   "execution_count": null,
   "metadata": {},
   "outputs": [],
   "source": [
    "class Analogy:\n",
    "    def __init__(self, source_domain, target_domain):\n",
    "        self.source = source_domain\n",
    "        self.target = target_domain\n",
    "        self.mappings = {}\n",
    "        \n",
    "    def add_mapping(self, source_concept, target_concept):\n",
    "        self.mappings[source_concept] = target_concept\n",
    "        \n",
    "    def transfer_knowledge(self, source_relation):\n",
    "        \"\"\"Transfer a relationship from source to target domain\"\"\"\n",
    "        if not all(concept in self.mappings for concept in source_relation):\n",
    "            return None\n",
    "        \n",
    "        return tuple(self.mappings[concept] for concept in source_relation)"
   ]
  },
  {
   "cell_type": "code",
   "execution_count": null,
   "metadata": {},
   "outputs": [],
   "source": [
    "# Solar System to Atom analogy\n",
    "solar_atom = Analogy(\"Solar System\", \"Atom\")\n",
    "solar_atom.add_mapping(\"sun\", \"nucleus\")\n",
    "solar_atom.add_mapping(\"planet\", \"electron\")\n",
    "solar_atom.add_mapping(\"gravity\", \"electromagnetic force\")\n",
    "\n",
    "# Transfer knowledge\n",
    "source_relation = (\"sun\", \"gravity\", \"planet\")\n",
    "target_relation = solar_atom.transfer_knowledge(source_relation)\n",
    "print(f\"Source relation: {source_relation}\")\n",
    "print(f\"Target relation: {target_relation}\")"
   ]
  },
  {
   "cell_type": "markdown",
   "metadata": {},
   "source": [
    "## 3. Abstract Problem Solving\n",
    "\n",
    "Implementing a general problem-solving framework that can handle different types of problems."
   ]
  },
  {
   "cell_type": "code",
   "execution_count": null,
   "metadata": {},
   "outputs": [],
   "source": [
    "class AbstractProblem:\n",
    "    def __init__(self, initial_state, goal_state):\n",
    "        self.initial = initial_state\n",
    "        self.goal = goal_state\n",
    "        \n",
    "    def actions(self, state):\n",
    "        \"\"\"Return possible actions in given state\"\"\"\n",
    "        raise NotImplementedError\n",
    "        \n",
    "    def result(self, state, action):\n",
    "        \"\"\"Return the state that results from taking action\"\"\"\n",
    "        raise NotImplementedError\n",
    "        \n",
    "    def is_goal(self, state):\n",
    "        \"\"\"Return True if state is a goal state\"\"\"\n",
    "        return state == self.goal\n",
    "    \n",
    "    def path_cost(self, state, action):\n",
    "        \"\"\"Return the cost of taking action in state\"\"\"\n",
    "        return 1"
   ]
  },
  {
   "cell_type": "code",
   "execution_count": null,
   "metadata": {},
   "outputs": [],
   "source": [
    "# Example: Number Transformation Problem\n",
    "class NumberTransform(AbstractProblem):\n",
    "    def actions(self, state):\n",
    "        return ['double', 'add_one', 'divide_by_2']\n",
    "    \n",
    "    def result(self, state, action):\n",
    "        if action == 'double':\n",
    "            return state * 2\n",
    "        elif action == 'add_one':\n",
    "            return state + 1\n",
    "        elif action == 'divide_by_2':\n",
    "            return state // 2 if state % 2 == 0 else state\n",
    "\n",
    "# Example usage\n",
    "problem = NumberTransform(4, 7)\n",
    "state = problem.initial\n",
    "\n",
    "# Simple solution demonstration\n",
    "actions = ['add_one', 'add_one', 'add_one']\n",
    "for action in actions:\n",
    "    state = problem.result(state, action)\n",
    "    print(f\"After {action}: {state}\")\n",
    "print(f\"Reached goal? {problem.is_goal(state)}\")"
   ]
  },
  {
   "cell_type": "markdown",
   "metadata": {},
   "source": [
    "## 4. Meta-Learning and Pattern Adaptation\n",
    "\n",
    "Creating a system that can learn and adapt patterns based on examples."
   ]
  },
  {
   "cell_type": "code",
   "execution_count": null,
   "metadata": {},
   "outputs": [],
   "source": [
    "class PatternLearner:\n",
    "    def __init__(self):\n",
    "        self.patterns = []\n",
    "        \n",
    "    def add_pattern(self, input_sequence, output):\n",
    "        \"\"\"Learn a pattern from an input sequence and its result\"\"\"\n",
    "        self.patterns.append((input_sequence, output))\n",
    "        \n",
    "    def find_similar_pattern(self, test_sequence):\n",
    "        \"\"\"Find the most similar known pattern to the test sequence\"\"\"\n",
    "        best_similarity = -1\n",
    "        best_pattern = None\n",
    "        \n",
    "        for pattern, output in self.patterns:\n",
    "            similarity = self._calculate_similarity(pattern, test_sequence)\n",
    "            if similarity > best_similarity:\n",
    "                best_similarity = similarity\n",
    "                best_pattern = (pattern, output)\n",
    "                \n",
    "        return best_pattern\n",
    "    \n",
    "    def _calculate_similarity(self, seq1, seq2):\n",
    "        \"\"\"Calculate similarity between two sequences\"\"\"\n",
    "        if len(seq1) != len(seq2):\n",
    "            return 0\n",
    "        \n",
    "        matches = sum(1 for x, y in zip(seq1, seq2) if x == y)\n",
    "        return matches / len(seq1)"
   ]
  },
  {
   "cell_type": "code",
   "execution_count": null,
   "metadata": {},
   "outputs": [],
   "source": [
    "# Example usage\n",
    "learner = PatternLearner()\n",
    "\n",
    "# Teaching patterns\n",
    "learner.add_pattern([1, 2, 3], 4)  # Arithmetic sequence\n",
    "learner.add_pattern([2, 4, 8], 16)  # Geometric sequence\n",
    "learner.add_pattern([1, 1, 2], 3)  # Fibonacci-like\n",
    "\n",
    "# Test pattern recognition\n",
    "test_sequence = [1, 2, 3]\n",
    "similar_pattern = learner.find_similar_pattern(test_sequence)\n",
    "print(f\"Test sequence: {test_sequence}\")\n",
    "print(f\"Most similar known pattern: {similar_pattern}\")"
   ]
  }
 ],
 "metadata": {
  "kernelspec": {
   "display_name": "Python 3",
   "language": "python",
   "name": "python3"
  },
  "language_info": {
   "codemirror_mode": {
    "name": "ipython",
    "version": 3
   },
   "file_extension": ".py",
   "mimetype": "text/x-python",
   "name": "python",
   "nbconvert_exporter": "python",
   "pygments_lexer": "ipython3",
   "version": "3.8.0"
  }
 },
 "nbformat": 4,
 "nbformat_minor": 4
}
