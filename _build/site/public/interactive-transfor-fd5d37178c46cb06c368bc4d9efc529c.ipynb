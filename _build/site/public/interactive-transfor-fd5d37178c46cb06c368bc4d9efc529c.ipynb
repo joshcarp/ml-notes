{
 "cells": [
  {
   "cell_type": "markdown",
   "id": "c0f364b1-3169-4ebb-b5c6-c778b5d035cc",
   "metadata": {
    "pycharm": {
     "name": "#%% md\n"
    }
   },
   "source": [
    "---\n",
    "title: The Interactive Transformer\n",
    "subtitle: by Joshua Carpeggiani\n",
    "---"
   ]
  },
  {
   "cell_type": "markdown",
   "id": "051d56aa",
   "metadata": {
    "pycharm": {
     "name": "#%% md\n"
    }
   },
   "source": [
    "# Introduction\n",
    "\n",
    "Welcome. This is an implementation of a transformer in pure go with no third party libraries. This way, everything from tensor operations to tokenization are all done inside this notebook.\n",
    "\n",
    "Because the goal of this project is illustrative, there are no optimisations. Everything runs on a single goroutine and doesn't have any parallelism. This makes it easy to follow and good as a reference guide. \n",
    "\n",
    "This page is also heavily referenced. The goal is to have everything have a reference to its original paper or reference implementation.\n",
    "\n",
    "For more content like this, or if you like croissants, got to [joshcarp.com](https://joshcarp.com)\n",
    "\n",
    ":::{note}\n",
    "This notebook is a version of my repo [github.com/joshcarp/llm.go](https:/github.com/joshcarp/llm.go) which in itself is a fork of [github.com/karpathy/llm.c](https://github.com/karpathy/llm.c).\n",
    "\n",
    "Karpathy's effort to democratize AI through education makes him one of the most important people in this field.\n",
    ":::\n",
    "\n",
    "\n",
    ":::{iframe} https://www.youtube.com/embed/wjZofJX0v4M?si=ropP1oHLOiynXLNH\n",
    ":width: 100%\n",
    "GPT introduction\n",
    ":::\n"
   ]
  },
  {
   "cell_type": "markdown",
   "id": "2fccb902-b6f8-4338-b440-b4b4bf53159b",
   "metadata": {},
   "source": [
    "# References\n",
    "\n",
    "Usually this goes at the bottom, but seeing this entire thing is a reference, it'll go at the top instead. \n",
    "\n",
    "- [IEEE-754](https://en.wikipedia.org/wiki/IEEE_754) - This is binary floating point. The specification gives good details about what types of errors that can accumulate which would impact training and interence, as well as possible optimisations that can be used, like fused-multiply-add (FMA), which can reduce intermediate errors. CPUs usually use FP32, GPUs FP16.\n",
    "- [BLAS](https://netlib.org/blas/) - Speed up matrix multiplication on CPUs.\n",
    "- [**Layer Normalization**](https://arxiv.org/abs/1607.06450) - Layernorm was introduced in this paper.\n",
    "- [**Deep Residual Learning for Image Recognition**](https://arxiv.org/pdf/1512.03385) - The introduction of residuals allowed for deeper networks. Before this paper the depth of a neural network was limited because it would diverge enough and back propagation was really, really difficult to do because of vanishing gradients. Residuals essentially have a “short circuit” past a block which limits how much the neural networks can influence.\n",
    "- [**Gaussian Error Linear Units (GELUs)**](https://arxiv.org/abs/1606.08415v5) - Activation function that leaves positive values unchanged but maps negative numbers to near zero. Other architectures use different activation functions. For example, OpenElm uses SwiGLU.\n",
    "- [**Learning representations by back-propagating errors**](https://www.cs.utoronto.ca/~hinton/absps/naturebp.pdf) - Back-propagation was introduced here, couldn’t find the original paper. This was done by Hinton and co and was what lead to the AI era of the 80s.\n",
    "- [**Adam: A Method for Stochastic Optimization**](https://arxiv.org/abs/1412.6980) - Introduced the Adam optimiser.\n",
    "- [**DECOUPLED WEIGHT DECAY REGULARIZATION**](https://arxiv.org/abs/1711.05101) - Introduces AdamW optimiser used in the first transformer. Adam with weight where weight increases as time goes on.\n",
    "- [**Adam: A Method for Stochastic Optimization**](https://arxiv.org/abs/1412.6980) - Introduced the Adam optimiser.\n",
    "- [**DECOUPLED WEIGHT DECAY REGULARIZATION**](https://arxiv.org/abs/1711.05101) - Introduces AdamW optimiser used in the first transformer. Adam with weight where weight increases as time goes on.\n",
    "- [**Fast Transformer Decoding: One Write-Head is All\n",
    "You Need**](https://arxiv.org/pdf/1911.02150) - People always point to the original Attention is all you need paper or the GPT paper that introduced the *decoder only* model, but this one was the first one that actually used it in practice.\n",
    "- [**Language Models are Unsupervised Multitask Learners**](https://cdn.openai.com/better-language-models/language_models_are_unsupervised_multitask_learners.pdf) - This is the GPT-2 paper\n",
    "- [**Improving Language Understanding by Generative Pre-Training**](https://cdn.openai.com/research-covers/language-unsupervised/language_understanding_paper.pdf) -** This paper introduced the “GPT” which was a breakthrough at the time. It introduced the idea of using next token prediction as a way to do self-supervised learning, which meant that we can put all of the internet into it and with a simple loss function over the vocabulary adjust the weights via backpropagation.\n",
    "- [**Attention Is All You Need**](https://arxiv.org/abs/1706.03762v7) - The OG introduced the idea of self-attention and the encoder/decoder architecture for language translation tasks (the encoder later got dropped because it was only used for translation). Another breakthrough from this paper was the training; “The Transformer allows for significantly more parallelisation and can reach a new state of the art in translation quality after being trained for as little as twelve hours on eight P100 GPUs.” - This fact here was what let it: overtake RNNs (which weren’t parallelisable), and lead NVIDIA to be worth more than 2.7 Trillion token credits."
   ]
  },
  {
   "cell_type": "markdown",
   "id": "d914fd14",
   "metadata": {
    "pycharm": {
     "name": "#%% md\n"
    }
   },
   "source": [
    "# Table of contents\n",
    "- [Background](#Background)\n",
    "  - [Data types and math operations](#data-types-math)\n",
    "  - [Tensors](#tensors)\n",
    "  - [Math](#math)\n",
    "  - [Matrix Multiplication](#matrix-multiplication)\n",
    "- [GPT](#gpt)"
   ]
  },
  {
   "cell_type": "markdown",
   "id": "fe4939d0",
   "metadata": {
    "pycharm": {
     "name": "#%% md\n"
    }
   },
   "source": [
    "# Background\n",
    "\n",
    "Before we can dive into the transformer, we need to cover the basics:\n",
    "- Datatypes\n",
    "- Matricies + Tensors\n",
    "- Matrix multiplication"
   ]
  },
  {
   "cell_type": "markdown",
   "id": "8b11b7d2",
   "metadata": {
    "pycharm": {
     "name": "#%% md\n"
    }
   },
   "source": [
    "<a name=\"math\"></a>\n",
    "# Datatypes and Math\n",
    "\n",
    "Because we're GPU poor, and because it makes the implementation easier, we use float32 for all parameters and calculations. \n",
    "\n",
    "CPUs can either do calculations in 32 or 64 bits, but the go standard library is opinionated and only supports 64 bit math operations. This wraps all the math functions we need. Whilst all modern architectures have instructions for both float32 and float64 operations, float32 is still faster because it uses 1/2 the bits, so the throughput can be 2x the float64 (citation needed). This is an obvious optimisation for this implementation.\n",
    "\n",
    "\n",
    "Because graphics applications aren't needed to be precise, GPUs often use IEEE 754 half precision which is 16 bits, the training loss from switching from 32 -> 16 bits is negligible. (citation needed)\n",
    "\n",
    "### Papers\n",
    "- [IEEE-754](https://en.wikipedia.org/wiki/IEEE_754) - I've linked the Wikipedia because you need to pay for the standard.\n"
   ]
  },
  {
   "cell_type": "code",
   "execution_count": 1,
   "id": "55a7a84a",
   "metadata": {
    "collapsed": false,
    "jupyter": {
     "outputs_hidden": false
    },
    "pycharm": {
     "name": "#%%\n"
    }
   },
   "outputs": [],
   "source": [
    "import \"math\"\n",
    "\n",
    "func Abs(x float32) float32 {\n",
    "\tif x > 0 {\n",
    "\t\treturn x\n",
    "\t}\n",
    "\treturn -x\n",
    "}\n",
    "\n",
    "func Cosh(x float32) float32 {\n",
    "\treturn float32(math.Cosh(float64(x)))\n",
    "}\n",
    "\n",
    "func Exp(x float32) float32 {\n",
    "\treturn float32(math.Exp(float64(x)))\n",
    "}\n",
    "\n",
    "func Inf(sign int) float32 {\n",
    "\treturn float32(math.Inf(sign))\n",
    "}\n",
    "\n",
    "func Log(x float32) float32 {\n",
    "\treturn float32(math.Log(float64(x)))\n",
    "}\n",
    "\n",
    "func IsNaN(f float32) bool {\n",
    "\treturn math.IsNaN(float64(f))\n",
    "}\n",
    "\n",
    "func Pow(x, y float32) float32 {\n",
    "\treturn float32(math.Pow(float64(x), float64(y)))\n",
    "}\n",
    "\n",
    "func Sqrt(x float32) float32 {\n",
    "\treturn float32(math.Sqrt(float64(x)))\n",
    "}\n",
    "\n",
    "func Tanh(x float32) float32 {\n",
    "\treturn float32(math.Tanh(float64(x)))\n",
    "}\n"
   ]
  },
  {
   "cell_type": "markdown",
   "id": "51aed59d",
   "metadata": {
    "pycharm": {
     "name": "#%% md\n"
    }
   },
   "source": [
    "<a name=\"tensors\"></a>\n",
    "# Tensors\n",
    "\n",
    "What is a tensor?\n",
    "A tensor is a multi-dimensional array. A regular slice is one-dimensional, holding elements in a sequence. A tensor can have multiple dimensions, like a 2D array (grid) or even a 3D array (cube).\n",
    "\n",
    "\n",
    "Tensor libraries like pytorch or tensorflow exist in python. The most widely used tensor library for local inference is https://ggml.ai/ which powers [llama.cpp](https://github.com/ggerganov/llama.cpp).\n",
    "\n",
    "\n",
    ":::{iframe} https://www.youtube.com/embed/DfK83xEtJ_k\n",
    ":width: 100%\n",
    "What is a tensor\n",
    ":::\n"
   ]
  },
  {
   "cell_type": "code",
   "execution_count": 2,
   "id": "347a19c9",
   "metadata": {
    "collapsed": false,
    "jupyter": {
     "outputs_hidden": false
    },
    "pycharm": {
     "name": "#%%\n"
    }
   },
   "outputs": [],
   "source": [
    "\n",
    "type tensor struct {\n",
    "\tdata []float32\n",
    "\tdims []int\n",
    "    stride []int\n",
    "}\n",
    "\n",
    "func (t tensor) Data() []float32 {\n",
    "\treturn t.data\n",
    "}\n",
    "\n",
    "func newTensor(data []float32, dims ...int) (tensor, int) {\n",
    "\ts := 1\n",
    "\tfor _, d := range dims {\n",
    "\t\ts *= d\n",
    "\t}\n",
    "\tif s > len(data) {\n",
    "\t\tpanic(\"dimensions larger than supplied data\")\n",
    "\t}\n",
    "\tss := min(s, len(data))\n",
    "\treturn tensor{\n",
    "\t\tdata: data[:ss],\n",
    "\t\tdims: dims,\n",
    "\t}, ss\n",
    "}\n",
    "\n",
    "func (t tensor) size() int {\n",
    "\tsize := 1\n",
    "\tfor _, dim := range t.dims {\n",
    "\t\tsize *= dim\n",
    "\t}\n",
    "\treturn size\n",
    "}\n",
    "\n",
    "func (t tensor) index(idx ...int) tensor {\n",
    "\t// 1. Error Handling (Partially Adjusted)\n",
    "\tif len(idx) > len(t.dims) {\n",
    "\t\tpanic(\"Too many indices for tensor dimensions\")\n",
    "\t}\n",
    "\tfor i, dim := range idx {\n",
    "\t\tif dim < 0 || dim >= t.dims[i] {\n",
    "\t\t\tpanic(\"Index out of bounds\")\n",
    "\t\t}\n",
    "\t}\n",
    "\t// 2. Calculate Linear Index (Partially Adjusted)\n",
    "\tlinearIndex := idx[0]\n",
    "\tstride := t.size()\n",
    "\tfor i := 1; i < len(idx); i++ {\n",
    "\t\tstride /= t.dims[i]\n",
    "\t\tlinearIndex += idx[i] * stride\n",
    "\t}\n",
    "\t// 3. Adjust Dimensions and Return Sub-Tensor\n",
    "\tnewDims := t.dims[len(idx):]                  // Keep remaining dimensions\n",
    "\tend := linearIndex + t.subTensorSize(newDims) // Size based on remaining dimensions\n",
    "\n",
    "\treturn tensor{\n",
    "\t\tdata: t.data[linearIndex:end],\n",
    "\t\tdims: newDims,\n",
    "\t}\n",
    "}\n",
    "\n",
    "// Helper function to calculate the size of a sub-tensor\n",
    "func (t tensor) subTensorSize(idx []int) int {\n",
    "\tsubTensorSize := 1\n",
    "\tfor _, dim := range t.dims[len(idx):] {\n",
    "\t\tsubTensorSize *= dim\n",
    "\t}\n",
    "\treturn subTensorSize\n",
    "}\n"
   ]
  },
  {
   "cell_type": "markdown",
   "id": "96b71314",
   "metadata": {
    "pycharm": {
     "name": "#%% md\n"
    }
   },
   "source": [
    "<a name=\"matrix-multiplication\"></a>\n",
    "# Matrix Multiplication\n",
    "\n",
    "matmulForward performs matrix multiplication and adds bias.\n",
    "Parameters:\n",
    "  - out: output matrix\n",
    "  - inp: input matrix\n",
    "  - weight: weight matrix\n",
    "  - bias: bias vector\n",
    "  - B: batch size\n",
    "  - T: sequence length (number of time steps)\n",
    "  - C: input dimension (number of features)\n",
    "  - OC: number of output channels\n",
    "\n",
    "Most of the time spent in inference is in this function. Because we're only doing this on a CPU this implemenation is very, very slow, and this is where different implementations would use a GPU/CUDA/Metal implementation to do parallel computation.\n",
    "\n",
    "On CPU, many architectures have an optimisation called Basic Linear Algebra Subprograms [BLAS](https://netlib.org/blas/). This allows for tiling (breaking matricies into smaller pieces and processing) or Single Instruction Multiple Data (SIMD).\n",
    "\n",
    "\n",
    ":::{iframe} https://www.youtube.com/embed?v=XkY2DOUCWMU\n",
    ":width: 100%\n",
    "Matrix multiplication\n",
    ":::\n",
    "\n"
   ]
  },
  {
   "cell_type": "code",
   "execution_count": 3,
   "id": "add0f046",
   "metadata": {
    "collapsed": false,
    "jupyter": {
     "outputs_hidden": false
    },
    "pycharm": {
     "name": "#%%\n"
    }
   },
   "outputs": [],
   "source": [
    "func matmulForward(out, inp, weight, bias []float32, B, T, C, OC int) {\n",
    "\t// Iterate over each batch\n",
    "\tvar wg sync.WaitGroup\n",
    "\tfor b := 0; b < B; b++ {\n",
    "\t\t// Iterate over each time step in the sequence\n",
    "\t\tfor t := 0; t < T; t++ {\n",
    "\t\t\twg.Add(1)\n",
    "\t\t\tgo func(b, t int) {\n",
    "\t\t\t\tdefer wg.Done()\n",
    "\t\t\t\t// Calculate the index in the output slice\n",
    "\t\t\t\tinp_bt := inp[b*T*C+t*C:]\n",
    "\t\t\t\tout_bt := out[b*T*OC+t*OC:]\n",
    "\t\t\t\tfor o := 0; o < OC; o++ {\n",
    "\t\t\t\t\tvar val float32\n",
    "\t\t\t\t\tif bias != nil {\n",
    "\t\t\t\t\t\tval = bias[o]\n",
    "\t\t\t\t\t}\n",
    "\t\t\t\t\t// Calculate the index in the weight slice\n",
    "\t\t\t\t\twrow := weight[o*C:]\n",
    "\t\t\t\t\t// Perform the dot product between the input and weight row\n",
    "\t\t\t\t\tfor i := 0; i < C; i++ {\n",
    "\t\t\t\t\t\tval += inp_bt[i] * wrow[i]\n",
    "\t\t\t\t\t}\n",
    "\t\t\t\t\t// Store the output value in the output slice\n",
    "\t\t\t\t\tout_bt[o] = val\n",
    "\t\t\t\t}\n",
    "\t\t\t}(b, t)\n",
    "\t\t}\n",
    "\t}\n",
    "\twg.Wait()\n",
    "}\n"
   ]
  },
  {
   "cell_type": "markdown",
   "id": "754a404c",
   "metadata": {
    "pycharm": {
     "name": "#%% md\n"
    }
   },
   "source": [
    "<a name=\"GPT\"></a>\n",
    "# GPT\n",
    "\n",
    "![decoder](decoder-only.svg)\n"
   ]
  },
  {
   "cell_type": "markdown",
   "id": "5fd41c88",
   "metadata": {
    "pycharm": {
     "name": "#%% md\n"
    }
   },
   "source": [
    "# Table of contents\n",
    "\n",
    "## Parameters vs Activations\n",
    "\n",
    "- [Parameters](#parameters) - The bulk of what makes up \"the model\". Most of the bytes you download comes from this part.\n",
    "\n",
    "- [Activations](#activations) - Output of mathematical operations between the input and the parameters. \n",
    "\n",
    "## Forward pass\n",
    "A forward pass is the \"inference\" stage - this section is what's occuring when you talk with ChatGPT. \n",
    "\n",
    "### Preparing\n",
    "This section transforms text into a vector representation that can be processed by a neural network.\n",
    "- [Tokenizer](#tokenizer) - Converts text to numeric ids that can be processed.\n",
    "- [Data Loading](#data) - This section describes how data is loaded, including batching, tokenization, and offsetting.\n",
    "- [Embedding](#embedding) - Converts these ids into n dimensional vector space\n",
    "\n",
    "### N-Layers \n",
    "This section is repeated for every layer. GPT-2 has 12 layers.\n",
    "- [Masked Multi-Head Attention](#masked-multi-head-attention) - Allows all tokens in the context window to impact other tokens in the context window\n",
    "- [Add and Norm](#add-norm) - Adds residual stream and normalises outputs\n",
    "- [Feed Forward](#feed-forward) - Feed forward is a standard MLP. Allows for more complex connections to be formed than just the attention mechanism alone.\n",
    "\n",
    "### Final transformations\n",
    "This section takes the higher dimensionality representations of our activations and processes it to give us our final output\n",
    "- [Linear](#linear) - Transformation that reduces dimensionality into \"logits\" which are correlated to how likely each token is (-inf==never, +inf=100% certainty)\n",
    "- [Softmax](#softmax) - This takes the logits and creates a probability distribution that adds up to 100%\n",
    "- [Sampling](#sampling) - This samples the probability distribution and returns the single token that's needed to make the next prediction\n",
    "\n",
    "### A complete forward pass\n",
    "This section puts all of this together.\n",
    "- [Forward](#forward)\n",
    "\n",
    "## Backwards pass\n",
    "This is \"training\". Companies spend billions of dollars optimizing to make this as fast as possible.\n",
    "\n",
    "- [Backward Pass](#backward-pass) - Calculating the gradients for gradient descent + backprop.\n",
    "- [Optimizer](#optimizer) - Determines how fast the model learns\n",
    "- [Training our model](#training-our-model) - Let's train gpt.\n"
   ]
  },
  {
   "cell_type": "markdown",
   "id": "68fb34a4",
   "metadata": {
    "pycharm": {
     "name": "#%% md\n"
    }
   },
   "source": [
    "<a name=\"data-loading\"></a>\n",
    "# Data loading"
   ]
  },
  {
   "cell_type": "code",
   "execution_count": 4,
   "id": "05927686",
   "metadata": {
    "collapsed": false,
    "jupyter": {
     "outputs_hidden": false
    },
    "pycharm": {
     "name": "#%%\n"
    }
   },
   "outputs": [],
   "source": [
    "import (\n",
    "\t\"bytes\"\n",
    "\t\"encoding/binary\"\n",
    "\t\"errors\"\n",
    "\t\"io\"\n",
    ")\n",
    "\n",
    "const Int32ByteLen = 4\n",
    "\n",
    "type DataLoader struct {\n",
    "\tfilename        string\n",
    "\tbatchSize       int\n",
    "\tseqLength       int\n",
    "\tcurrentPosition int64\n",
    "\tfileSize        int64\n",
    "\tNumBatches      int\n",
    "\tdata            []int32\n",
    "\tdataAll         []int32\n",
    "}\n",
    "\n",
    "func NewDataLoader(filename string, batchSize, seqLength int) (*DataLoader, error) {\n",
    "\tfile, err := os.Open(filename)\n",
    "\tif err != nil {\n",
    "\t\treturn nil, err\n",
    "\t}\n",
    "\treturn newDataLoader(file, batchSize, seqLength)\n",
    "}\n",
    "\n",
    "func newDataLoader(file io.Reader, batchSize, seqLength int) (*DataLoader, error) {\n",
    "\tdata, err := io.ReadAll(file)\n",
    "\tif err != nil {\n",
    "\t\treturn nil, err\n",
    "\t}\n",
    "\tsize := len(data)\n",
    "\tif size < (batchSize*seqLength+1)*Int32ByteLen {\n",
    "\t\treturn nil, errors.New(\"error: file size is too small for the batch size and sequence length\")\n",
    "\t}\n",
    "\tloader := &DataLoader{\n",
    "\t\tbatchSize:  batchSize,\n",
    "\t\tseqLength:  seqLength,\n",
    "\t\tNumBatches: size / (batchSize * seqLength * Int32ByteLen),\n",
    "\t\tdata:       make([]int32, size/Int32ByteLen),\n",
    "\t\tfileSize:   int64(size / Int32ByteLen),\n",
    "\t}\n",
    "\tif err := binary.Read(bytes.NewReader(data), binary.LittleEndian, loader.data); err != nil {\n",
    "\t\treturn nil, err\n",
    "\t}\n",
    "\treturn loader, nil\n",
    "}\n",
    "\n",
    "func newDataLoaderFromInts(data []int32, batchSize, seqLength int) (*DataLoader, error) {\n",
    "\tsize := len(data)\n",
    "\tif size < (batchSize*seqLength + 1) {\n",
    "\t\treturn nil, errors.New(\"error: file size is too small for the batch size and sequence length\")\n",
    "\t}\n",
    "\tloader := &DataLoader{\n",
    "\t\tbatchSize:  batchSize,\n",
    "\t\tseqLength:  seqLength,\n",
    "\t\tNumBatches: size / (batchSize * seqLength),\n",
    "\t\tdata:       data,\n",
    "\t\tfileSize:   int64(size),\n",
    "\t}\n",
    "\treturn loader, nil\n",
    "}\n",
    "\n",
    "func (loader *DataLoader) Reset() {\n",
    "\tloader.currentPosition = 0\n",
    "}\n",
    "\n",
    "func (loader *DataLoader) NextBatch() ([]int32, []int32, error) {\n",
    "\tnextPos := loader.currentPosition + int64(loader.batchSize*loader.seqLength)\n",
    "\tif nextPos+1 > loader.fileSize {\n",
    "\t\tloader.Reset()\n",
    "\t\tnextPos = loader.currentPosition + int64(loader.batchSize*loader.seqLength)\n",
    "\t}\n",
    "\t// don't  x4 because we're indexing int32 not byte\n",
    "\tinputs := loader.data[loader.currentPosition:nextPos]\n",
    "\ttargets := loader.data[loader.currentPosition+1 : nextPos+1]\n",
    "\tloader.currentPosition = nextPos\n",
    "\treturn inputs, targets, nil\n",
    "}\n"
   ]
  },
  {
   "cell_type": "markdown",
   "id": "a6ca2119",
   "metadata": {
    "pycharm": {
     "name": "#%% md\n"
    }
   },
   "source": [
    "# Parameters <a name=\"parameters\"></a>\n",
    "\n",
    "A Parameter is a numerical value that determines the strength of the connection between neurons. These connections are similar to synapses in the human brain, and the parameters are like the knobs that adjust the strength of those connections.\n",
    "\n",
    "There are two main types of parameters in neural networks:\n",
    "\n",
    "- Weights: These are associated with each connection between neurons. They multiply the signal coming from one neuron before it's passed on to the next neuron. A higher weight means a stronger connection and a greater influence on the receiving neuron.\n",
    "\n",
    "- Biases: These are added to the sum of the weighted inputs at each neuron. They act like a baseline shift, allowing the neuron to activate even if the weighted inputs are weak.\n",
    "\n",
    "[back to top](#Introduction)"
   ]
  },
  {
   "cell_type": "code",
   "execution_count": 5,
   "id": "e67ae458",
   "metadata": {
    "collapsed": false,
    "jupyter": {
     "outputs_hidden": false
    },
    "pycharm": {
     "name": "#%%\n"
    }
   },
   "outputs": [],
   "source": [
    "// ParameterTensors are the parameters of the model\n",
    "type ParameterTensors struct {\n",
    "\tMemory        []float32\n",
    "\tWordTokEmbed  tensor // (V, C) - Word/Token Embedding weights (Vocabulary size, Embedding dimension)\n",
    "\tWordPosEmbed  tensor // (maxT, C) - Positional Embedding weights (Maximum Sequence length, Embedding dimension)\n",
    "\tLayerNorm1W   tensor // (L, C) - Weights for Layer Normalization 1 (Number of layers, Embedding dimension)\n",
    "\tLayerNorm1B   tensor // (L, C) - Biases for Layer Normalization 1\n",
    "\tQueryKeyValW  tensor // (L, 3*C, C) - Attention QKV weights (Layers, 3 * Embedding dimension, Embedding dimension)\n",
    "\tQueryKeyValB  tensor // (L, 3*C) - Attention QKV biases\n",
    "\tAttProjW      tensor // (L, C, C) - Attention projection weights (Layers, Embedding dimension, Embedding dimension)\n",
    "\tAttProjB      tensor // (L, C) - Attention projection biases\n",
    "\tLayer2NormW   tensor // (L, C) - Weights for Layer Normalization 2\n",
    "\tLayer2NormB   tensor // (L, C) - Biases for Layer Normalization 2\n",
    "\tFeedFwdW      tensor // (L, 4*C, C) - Feed-forward layer weights (Layers, 4 * Embedding Dimension, Embedding Dimension)\n",
    "\tFeedFwdB      tensor // (L, 4*C) - Feed-forward layer biases\n",
    "\tFeedFwdProjW  tensor // (L, C, 4*C) - Feed-forward projection weights\n",
    "\tFeedFwdProjB  tensor // (L, C)- Feed-forward projection biases\n",
    "\tLayerFinNormW tensor // (C) - Final layer normalization weights\n",
    "\tLayerFinNormB tensor // (C) - Final layer normalization biases\n",
    "}\n",
    "\n",
    "func newParameterTensors(V, C, maxSeqLen, L int) ParameterTensors {\n",
    "\tvar tensor ParameterTensors\n",
    "\ttensor.Init(V, C, maxSeqLen, L)\n",
    "\treturn tensor\n",
    "}\n",
    "\n",
    "func (tensor *ParameterTensors) Len() int {\n",
    "\treturn len(tensor.Memory)\n",
    "}\n",
    "\n",
    "// Init initialises the ParameterTensors with specific sizes for each tensor based on the model architecture.\n",
    "func (tensor *ParameterTensors) Init(V, C, maxSeqLen, L int) {\n",
    "\ttensor.Memory = make([]float32,\n",
    "\t\tV*C+ // WordTokEmbed\n",
    "\t\t\tmaxSeqLen*C+ // WordPosEmbed\n",
    "\t\t\tL*C+ // LayerNorm1W\n",
    "\t\t\tL*C+ // LayerNorm1B\n",
    "\t\t\tL*3*C*C+ // QueryKeyValW\n",
    "\t\t\tL*3*C+ // QueryKeyValB\n",
    "\t\t\tL*C*C+ // AttProjW\n",
    "\t\t\tL*C+ // AttProjB\n",
    "\t\t\tL*C+ // Layer2NormW\n",
    "\t\t\tL*C+ // Layer2NormB\n",
    "\t\t\tL*4*C*C+ // FeedFwdW\n",
    "\t\t\tL*4*C+ // FeedFwdB\n",
    "\t\t\tL*C*4*C+ // FeedFwdProjW\n",
    "\t\t\tL*C+ // FeedFwdProjB\n",
    "\t\t\tC+ // LayerFinNormW\n",
    "\t\t\tC, // LayerFinNormB\n",
    "\t)\n",
    "\tvar ptr int\n",
    "\tmemPtr := tensor.Memory\n",
    "\ttensor.WordTokEmbed, ptr = newTensor(memPtr, V, C)\n",
    "\tmemPtr = memPtr[ptr:]\n",
    "\ttensor.WordPosEmbed, ptr = newTensor(memPtr, maxSeqLen, C)\n",
    "\tmemPtr = memPtr[ptr:]\n",
    "\ttensor.LayerNorm1W, ptr = newTensor(memPtr, L, C)\n",
    "\tmemPtr = memPtr[ptr:]\n",
    "\ttensor.LayerNorm1B, ptr = newTensor(memPtr, L, C)\n",
    "\tmemPtr = memPtr[ptr:]\n",
    "\ttensor.QueryKeyValW, ptr = newTensor(memPtr, L, 3*C, C)\n",
    "\tmemPtr = memPtr[ptr:]\n",
    "\ttensor.QueryKeyValB, ptr = newTensor(memPtr, L, 3*C)\n",
    "\tmemPtr = memPtr[ptr:]\n",
    "\ttensor.AttProjW, ptr = newTensor(memPtr, L, C, C)\n",
    "\tmemPtr = memPtr[ptr:]\n",
    "\ttensor.AttProjB, ptr = newTensor(memPtr, L, C)\n",
    "\tmemPtr = memPtr[ptr:]\n",
    "\ttensor.Layer2NormW, ptr = newTensor(memPtr, L, C)\n",
    "\tmemPtr = memPtr[ptr:]\n",
    "\ttensor.Layer2NormB, ptr = newTensor(memPtr, L, C)\n",
    "\tmemPtr = memPtr[ptr:]\n",
    "\ttensor.FeedFwdW, ptr = newTensor(memPtr, L, 4*C, C)\n",
    "\tmemPtr = memPtr[ptr:]\n",
    "\ttensor.FeedFwdB, ptr = newTensor(memPtr, L, 4*C)\n",
    "\tmemPtr = memPtr[ptr:]\n",
    "\ttensor.FeedFwdProjW, ptr = newTensor(memPtr, L, C, 4*C)\n",
    "\tmemPtr = memPtr[ptr:]\n",
    "\ttensor.FeedFwdProjB, ptr = newTensor(memPtr, L, C)\n",
    "\tmemPtr = memPtr[ptr:]\n",
    "\ttensor.LayerFinNormW, ptr = newTensor(memPtr, C)\n",
    "\tmemPtr = memPtr[ptr:]\n",
    "\ttensor.LayerFinNormB, ptr = newTensor(memPtr, C)\n",
    "\tmemPtr = memPtr[ptr:]\n",
    "\tif len(memPtr) != 0 {\n",
    "\t\tpanic(\"something went real bad here\")\n",
    "\t}\n",
    "}\n"
   ]
  },
  {
   "cell_type": "markdown",
   "id": "ae4d5fdd",
   "metadata": {
    "pycharm": {
     "name": "#%% md\n"
    }
   },
   "source": [
    "<a name=\"activations\"></a>\n",
    "# Activations\n",
    "An activation is the output of the input, and a mathematical operation. If the weight determines the strength of the function, the activation is the output.\n",
    "\n",
    "[back to top](#Introduction)"
   ]
  },
  {
   "cell_type": "code",
   "execution_count": 6,
   "id": "a1092a37",
   "metadata": {
    "collapsed": false,
    "jupyter": {
     "outputs_hidden": false
    },
    "pycharm": {
     "name": "#%%\n"
    }
   },
   "outputs": [],
   "source": [
    "\n",
    "// ActivationTensors\n",
    "type ActivationTensors struct {\n",
    "\tMemory             []float32\n",
    "\tEncoded            tensor // (B, T, C) - Initial encoded input representations (Batch size, Sequence length, Embedding dimension)\n",
    "\tLayer1Act          tensor // (L, B, T, C) - Activations after Layer Normalization 1\n",
    "\tLayerNorm1Mean     tensor // (L, B, T) - Mean values for Layer Normalization 1\n",
    "\tLayerNorm1Rstd     tensor // (L, B, T) - Reciprocal of standard deviation for Layer Normalization 1\n",
    "\tQueryKeyVal        tensor // (L, B, T, 3*C) - Combined Query, Key, Value representations for attention\n",
    "\tAttentionInter     tensor // (L, B, T, C) - Intermediate attention-like result\n",
    "\tPreAttention       tensor // (L, B, NH, T, T) - Pre-attention scores\n",
    "\tAttention          tensor // (L, B, NH, T, T) - Normalized attention weights (Number of layers, Batch size, Number of Attention Heads, Sequence length, Sequence length)\n",
    "\tAttentionProj      tensor // (L, B, T, C) - Projected attention outputs\n",
    "\tResidual2          tensor // (L, B, T, C) - Residual connection after attention\n",
    "\tLayerNorm2Act      tensor // (L, B, T, C) - Activations after Layer Normalization 2\n",
    "\tLayerNorm2Mean     tensor // (L, B, T) - Mean values for Layer Normalization 2\n",
    "\tLayerNorm2Rstd     tensor // (L, B, T) - Reciprocal of standard deviation for Layer Normalization 2\n",
    "\tFeedForward        tensor // (L, B, T, 4*C) - Intermediate Feed-Forward Network activations\n",
    "\tFeedForwardGelu    tensor // (L, B, T, 4*C) - FeedForward activations after applying GELU (non-linearity)\n",
    "\tFeedForwardProj    tensor // (L, B, T, C) - Projected output of the Feed-Forward Network\n",
    "\tResidual3          tensor // (L, B, T, C) - Residual connection after Feed-Forward Network\n",
    "\tLayerNormFinal     tensor // (B, T, C) - Final activations after Layer Normalization\n",
    "\tLayerNormFinalMean tensor // (B, T) - Mean values for final Layer Normalization\n",
    "\tLayerNormFinalStd  tensor // (B, T) - Reciprocal of standard deviation for final Layer Normalization\n",
    "\tLogits             tensor // (B, T, V) - Raw output scores (before softmax)\n",
    "\tProbabilities      tensor // (B, T, V) - Softmax probabilities over the vocabulary\n",
    "\tLosses             tensor // (B, T) - Loss values per token in the batch\n",
    "}\n",
    "\n",
    "func (tensor *ActivationTensors) Init(B, C, T, L, NH, V int) {\n",
    "\ttensor.Memory = make([]float32,\n",
    "\t\tB*T*C+\n",
    "\t\t\tL*B*T*C+\n",
    "\t\t\tL*B*T+\n",
    "\t\t\tL*B*T+\n",
    "\t\t\tL*B*T*C*3+\n",
    "\t\t\tL*B*T*C+\n",
    "\t\t\tL*B*NH*T*T+\n",
    "\t\t\tL*B*NH*T*T+\n",
    "\t\t\tL*B*T*C+\n",
    "\t\t\tL*B*T*C+\n",
    "\t\t\tL*B*T*C+\n",
    "\t\t\tL*B*T+\n",
    "\t\t\tL*B*T+\n",
    "\t\t\tL*B*T*C*4+\n",
    "\t\t\tL*B*T*C*4+\n",
    "\t\t\tL*B*T*C+\n",
    "\t\t\tL*B*T*C+\n",
    "\t\t\tB*T*C+\n",
    "\t\t\tB*T+\n",
    "\t\t\tB*T+\n",
    "\t\t\tB*T*V+\n",
    "\t\t\tB*T*V+\n",
    "\t\t\tB*T)\n",
    "\tvar ptr int\n",
    "\tmemPtr := tensor.Memory\n",
    "\ttensor.Encoded, ptr = newTensor(memPtr, B, T, C)\n",
    "\tmemPtr = memPtr[ptr:]\n",
    "\ttensor.Layer1Act, ptr = newTensor(memPtr, L, B, T, C)\n",
    "\tmemPtr = memPtr[ptr:]\n",
    "\ttensor.LayerNorm1Mean, ptr = newTensor(memPtr, L, B, T)\n",
    "\tmemPtr = memPtr[ptr:]\n",
    "\ttensor.LayerNorm1Rstd, ptr = newTensor(memPtr, L, B, T)\n",
    "\tmemPtr = memPtr[ptr:]\n",
    "\ttensor.QueryKeyVal, ptr = newTensor(memPtr, L, B, T, C*3)\n",
    "\tmemPtr = memPtr[ptr:]\n",
    "\ttensor.AttentionInter, ptr = newTensor(memPtr, L, B, T, C)\n",
    "\tmemPtr = memPtr[ptr:]\n",
    "\ttensor.PreAttention, ptr = newTensor(memPtr, L, B, NH, T, T)\n",
    "\tmemPtr = memPtr[ptr:]\n",
    "\ttensor.Attention, ptr = newTensor(memPtr, L, B, NH, T, T)\n",
    "\tmemPtr = memPtr[ptr:]\n",
    "\ttensor.AttentionProj, ptr = newTensor(memPtr, L, B, T, C)\n",
    "\tmemPtr = memPtr[ptr:]\n",
    "\ttensor.Residual2, ptr = newTensor(memPtr, L, B, T, C)\n",
    "\tmemPtr = memPtr[ptr:]\n",
    "\ttensor.LayerNorm2Act, ptr = newTensor(memPtr, L, B, T, C)\n",
    "\tmemPtr = memPtr[ptr:]\n",
    "\ttensor.LayerNorm2Mean, ptr = newTensor(memPtr, L, B, T)\n",
    "\tmemPtr = memPtr[ptr:]\n",
    "\ttensor.LayerNorm2Rstd, ptr = newTensor(memPtr, L, B, T)\n",
    "\tmemPtr = memPtr[ptr:]\n",
    "\ttensor.FeedForward, ptr = newTensor(memPtr, L, B, T, C*4)\n",
    "\tmemPtr = memPtr[ptr:]\n",
    "\ttensor.FeedForwardGelu, ptr = newTensor(memPtr, L, B, T, C*4)\n",
    "\tmemPtr = memPtr[ptr:]\n",
    "\ttensor.FeedForwardProj, ptr = newTensor(memPtr, L, B, T, C)\n",
    "\tmemPtr = memPtr[ptr:]\n",
    "\ttensor.Residual3, ptr = newTensor(memPtr, L, B, T, C)\n",
    "\tmemPtr = memPtr[ptr:]\n",
    "\ttensor.LayerNormFinal, ptr = newTensor(memPtr, B, T, C)\n",
    "\tmemPtr = memPtr[ptr:]\n",
    "\ttensor.LayerNormFinalMean, ptr = newTensor(memPtr, B, T)\n",
    "\tmemPtr = memPtr[ptr:]\n",
    "\ttensor.LayerNormFinalStd, ptr = newTensor(memPtr, B, T)\n",
    "\tmemPtr = memPtr[ptr:]\n",
    "\ttensor.Logits, ptr = newTensor(memPtr, B, T, V)\n",
    "\tmemPtr = memPtr[ptr:]\n",
    "\ttensor.Probabilities, ptr = newTensor(memPtr, B, T, V)\n",
    "\tmemPtr = memPtr[ptr:]\n",
    "\ttensor.Losses, ptr = newTensor(memPtr, B, T)\n",
    "\tmemPtr = memPtr[ptr:]\n",
    "\tif len(memPtr) != 0 {\n",
    "\t\tpanic(\"something went real bad here\")\n",
    "\t}\n",
    "}"
   ]
  },
  {
   "cell_type": "markdown",
   "id": "2198f68e",
   "metadata": {
    "pycharm": {
     "name": "#%% md\n"
    }
   },
   "source": [
    "<a name=\"tokenizer\"></a>\n",
    "# Tokenizer\n",
    "\n",
    "![tokenization](tokenization.svg)\n",
    "\n",
    "Tokenization is the fundamental process of transforming text data into a format the model can understand. It involves breaking down sentences into smaller units called tokens.\n",
    "\n",
    "[back to top](#Introduction)"
   ]
  },
  {
   "cell_type": "code",
   "execution_count": 7,
   "id": "87af1071",
   "metadata": {
    "collapsed": false,
    "jupyter": {
     "outputs_hidden": false
    },
    "pycharm": {
     "name": "#%%\n"
    }
   },
   "outputs": [],
   "source": [
    "import (\n",
    "\t\"encoding/binary\"\n",
    "\t\"encoding/json\"\n",
    "\t\"errors\"\n",
    "\t\"os\"\n",
    "\t\"sort\"\n",
    ")\n",
    "\n",
    "const GPT2_EOT int32 = 50256\n",
    "\n",
    "type Tokenizer struct {\n",
    "\tvocabSize  uint32\n",
    "\ttokenTable []string         // tokenTable maps token id to string\n",
    "\ttokenMap   map[string]int32 // tokenMap maps token to id\n",
    "\tinit       bool\n",
    "}\n",
    "\n",
    "func newTokenizer(vocab []string) Tokenizer {\n",
    "\ttokenizer := Tokenizer{\n",
    "\t\tvocabSize:  uint32(len(vocab)),\n",
    "\t\ttokenTable: vocab,\n",
    "\t\ttokenMap:   make(map[string]int32),\n",
    "\t\tinit:       true,\n",
    "\t}\n",
    "\tfor i, token := range vocab {\n",
    "\t\ttokenizer.tokenMap[token] = int32(i)\n",
    "\t}\n",
    "\treturn tokenizer\n",
    "}\n",
    "\n",
    "func NewTokenizer(filename string) (Tokenizer, error) {\n",
    "\tf, err := os.Open(filename)\n",
    "\tif err != nil {\n",
    "\t\treturn Tokenizer{}, err\n",
    "\t}\n",
    "\tdefer f.Close()\n",
    "\theader := make([]uint32, 256)\n",
    "\tif err := binary.Read(f, binary.LittleEndian, header); err != nil {\n",
    "\t\treturn Tokenizer{}, err\n",
    "\t}\n",
    "\tif header[0] != 20240328 || header[1] != 1 {\n",
    "\t\treturn Tokenizer{}, errors.New(\"incorrect header for tokenizer\")\n",
    "\t}\n",
    "\ttok := Tokenizer{\n",
    "\t\tvocabSize:  header[2],\n",
    "\t\ttokenTable: make([]string, header[2]),\n",
    "\t\ttokenMap:   make(map[string]int32),\n",
    "\t\tinit:       true,\n",
    "\t}\n",
    "\tvar length byte\n",
    "\tfor i := range tok.tokenTable {\n",
    "\t\tif err := binary.Read(f, binary.LittleEndian, &length); err != nil {\n",
    "\t\t\treturn tok, err\n",
    "\t\t}\n",
    "\t\tif length <= 0 {\n",
    "\t\t\treturn tok, errors.New(\"tokenizer failure\")\n",
    "\t\t}\n",
    "\t\ttokenBytes := make([]byte, length)\n",
    "\t\tif err := binary.Read(f, binary.LittleEndian, tokenBytes); err != nil {\n",
    "\t\t\treturn tok, err\n",
    "\t\t}\n",
    "\t\ttok.tokenTable[i] = string(tokenBytes)\n",
    "\t\ttok.tokenMap[tok.tokenTable[i]] = int32(i)\n",
    "\t}\n",
    "\treturn tok, nil\n",
    "}\n",
    "\n",
    "type TokenizerJSON struct {\n",
    "\tVersion string `json:\"version\"`\n",
    "\tModel   struct {\n",
    "\t\tType          string            `json:\"type\"`\n",
    "\t\tVocab         map[string]int    `json:\"vocab\"`\n",
    "\t\tMergesData    []string          `json:\"merges,omitempty\"`\n",
    "\t\tSpecialTokens map[string]string `json:\"special_tokens\"`\n",
    "\t} `json:\"model\"`\n",
    "}\n",
    "\n",
    "func NewTokenizerJson(filename string) (Tokenizer, error) {\n",
    "\t// Read the JSON file\n",
    "\tfileContent, err := os.ReadFile(filename)\n",
    "\tif err != nil {\n",
    "\t\treturn Tokenizer{}, err\n",
    "\t}\n",
    "\n",
    "\t// Unmarshal JSON into our struct\n",
    "\tvar tokenizerData TokenizerJSON\n",
    "\tif err := json.Unmarshal(fileContent, &tokenizerData); err != nil {\n",
    "\t\treturn Tokenizer{}, err\n",
    "\t}\n",
    "\n",
    "\t// Create a new Tokenizer instance\n",
    "\ttok := Tokenizer{\n",
    "\t\tvocabSize:  uint32(len(tokenizerData.Model.Vocab)),\n",
    "\t\ttokenTable: make([]string, len(tokenizerData.Model.Vocab)),\n",
    "\t\ttokenMap:   make(map[string]int32),\n",
    "\t\tinit:       true,\n",
    "\t}\n",
    "\n",
    "\t// Create a slice of token-id pairs for sorting\n",
    "\tvar tokenIDPairs []struct {\n",
    "\t\tToken string\n",
    "\t\tID    int\n",
    "\t}\n",
    "\tfor token, id := range tokenizerData.Model.Vocab {\n",
    "\t\t// Convert the first two bytes to the 'Ġ' character if they match 0xC4 0xA0\n",
    "\t\tif len(token) >= 2 && token[0] == 0xC4 && token[1] == 0xA0 {\n",
    "\t\t\ttoken = \" \" + token[2:]\n",
    "\t\t}\n",
    "\t\ttokenIDPairs = append(tokenIDPairs, struct {\n",
    "\t\t\tToken string\n",
    "\t\t\tID    int\n",
    "\t\t}{token, id})\n",
    "\t}\n",
    "\n",
    "\t// Sort the token-id pairs by ID\n",
    "\tsort.Slice(tokenIDPairs, func(i, j int) bool {\n",
    "\t\treturn tokenIDPairs[i].ID < tokenIDPairs[j].ID\n",
    "\t})\n",
    "\n",
    "\t// Populate tokenTable and tokenMap\n",
    "\tfor i, pair := range tokenIDPairs {\n",
    "\t\ttok.tokenTable[i] = pair.Token\n",
    "\t\ttok.tokenMap[pair.Token] = int32(i)\n",
    "\t}\n",
    "\n",
    "\treturn tok, nil\n",
    "}\n",
    "\n",
    "func (t Tokenizer) Decode(tokens []int32) (string, error) {\n",
    "\ts := \"\"\n",
    "\tfor _, token := range tokens {\n",
    "\t\tif token >= int32(len(t.tokenTable)) {\n",
    "\t\t\treturn \"\", errors.New(\"not valid token\")\n",
    "\t\t}\n",
    "\t\tif token != GPT2_EOT {\n",
    "\t\t\ts += t.tokenTable[token]\n",
    "\t\t}\n",
    "\t}\n",
    "\treturn s, nil\n",
    "}\n",
    "\n",
    "func (t Tokenizer) Encode(text string) ([]int32, error) {\n",
    "\ttokens := []int32{}\n",
    "\tfor len(text) > 0 {\n",
    "\t\tlongestMatch := \"\"\n",
    "\t\tlongestMatchToken := int32(GPT2_EOT)\n",
    "\t\tfor i := len(text); i > 0; i-- {\n",
    "\t\t\tsubStr := text[:i]\n",
    "\t\t\tif token, exists := t.tokenMap[subStr]; exists {\n",
    "\t\t\t\tlongestMatch = subStr\n",
    "\t\t\t\tlongestMatchToken = token\n",
    "\t\t\t\tbreak\n",
    "\t\t\t}\n",
    "\t\t}\n",
    "\t\tif longestMatch == \"\" {\n",
    "\t\t\t// If no match found, treat the first character as an unknown token\n",
    "\t\t\ttokens = append(tokens, GPT2_EOT)\n",
    "\t\t\ttext = text[1:]\n",
    "\t\t} else {\n",
    "\t\t\ttokens = append(tokens, longestMatchToken)\n",
    "\t\t\ttext = text[len(longestMatch):]\n",
    "\t\t}\n",
    "\t}\n",
    "\treturn tokens, nil\n",
    "}\n"
   ]
  },
  {
   "cell_type": "markdown",
   "id": "54dab5dc",
   "metadata": {
    "pycharm": {
     "name": "#%% md\n"
    }
   },
   "source": [
    "## Tokenize some text"
   ]
  },
  {
   "cell_type": "code",
   "execution_count": 8,
   "id": "3d14861c",
   "metadata": {
    "collapsed": false,
    "jupyter": {
     "outputs_hidden": false
    },
    "pycharm": {
     "name": "#%%\n"
    }
   },
   "outputs": [
    {
     "name": "stdout",
     "output_type": "stream",
     "text": [
      "encoded:  [31373 612 220 50256]\n",
      "decoded:  hello there \n"
     ]
    }
   ],
   "source": [
    "%%\n",
    "tokenizer, err := NewTokenizerJson(\"/Users/joshcarp/Documents/the-interactive-transformer/tokenizer.json\"); if err != nil {\n",
    "    panic(err)\n",
    "}\n",
    "gonbui.RequestInput(\"Tokenize some text: \", false)\n",
    "reader := bufio.NewReader(os.Stdin)\n",
    "inputText, err := reader.ReadString('\\n')\n",
    "if err != nil {\n",
    "    panic(err)\n",
    "}\n",
    "if err != nil { panic(err) }\n",
    "encoded, err := tokenizer.Encode(inputText)\n",
    "fmt.Println(\"encoded: \", encoded)\n",
    "decoded, err := tokenizer.Decode(encoded)\n",
    "fmt.Println(\"decoded: \", decoded)\n"
   ]
  },
  {
   "cell_type": "markdown",
   "id": "af3b6ab7",
   "metadata": {
    "pycharm": {
     "name": "#%% md\n"
    }
   },
   "source": [
    "<a name=\"embedding\"></a>\n",
    "## Embedding\n",
    "![embeddings](embedding.svg)\n",
    "\n",
    "\n",
    "encoderForward iterates through the batch/sequence and combines the word token embeddings\n",
    "with the word position embeddings. This allows out vector to encode tokens and positions in one vector.\n",
    "\n",
    "\n",
    ":::{iframe} https://www.youtube.com/embed?v=gQddtTdmG_8\n",
    ":width: 100%\n",
    "Word embeddings\n",
    ":::\n",
    "\n",
    "[back to top](#Introduction)"
   ]
  },
  {
   "cell_type": "code",
   "execution_count": 9,
   "id": "5cdd48f5",
   "metadata": {
    "collapsed": false,
    "jupyter": {
     "outputs_hidden": false
    },
    "pycharm": {
     "name": "#%%\n"
    }
   },
   "outputs": [],
   "source": [
    "func encoderForward(out []float32, inp []int32, wte []float32, wpe []float32, B, T, C int) {\n",
    "\t// Iterate over each batch\n",
    "\tfor b := 0; b < B; b++ {\n",
    "\t\t// Iterate over each time step in the sequence\n",
    "\t\tfor t := 0; t < T; t++ {\n",
    "\t\t\t// Calculate the index in the output slice. Each vector is C elements long.\n",
    "\t\t\tstartOutIndex := b*T*C + t*C\n",
    "\t\t\t// Calculate the token ID index in the input\n",
    "\t\t\t// inp is the tokenized input, each number in inp char is an index within wte (word token embeddings)\n",
    "\t\t\tix := inp[b*T+t]\n",
    "\t\t\t// Calculate the index in the token embeddings slice\n",
    "\t\t\t// inp -> id -> wte[id]\n",
    "\t\t\tstartWteIndex := ix * int32(C)\n",
    "\t\t\t// Calculate the index in the position embeddings slice\n",
    "\t\t\t// Wpe starts at 0 (when t is zero) which is basically mapping directly to index\n",
    "\t\t\tstartWpeIndex := t * C\n",
    "\t\t\t// Add the vectors from `wte` and `wpe` and store the result in `out`\n",
    "\t\t\t// here we combine the vectors in the C dimensions.\n",
    "\t\t\tfor i := 0; i < C; i++ {\n",
    "\t\t\t\tout[startOutIndex+i] = wte[startWteIndex+int32(i)] + wpe[startWpeIndex+i]\n",
    "\t\t\t}\n",
    "\t\t}\n",
    "\t}\n",
    "}"
   ]
  },
  {
   "cell_type": "code",
   "execution_count": 10,
   "id": "c84f9e25",
   "metadata": {
    "collapsed": false,
    "jupyter": {
     "outputs_hidden": false
    },
    "pycharm": {
     "name": "#%%\n"
    }
   },
   "outputs": [
    {
     "name": "stdout",
     "output_type": "stream",
     "text": [
      "=== RUN   TestEncoderForwardExplicit\n",
      "--- PASS: TestEncoderForwardExplicit (0.00s)\n",
      "PASS\n"
     ]
    }
   ],
   "source": [
    "%test\n",
    "func TestEncoderForwardExplicit(t *testing.T) {\n",
    "    inp := []int32{1, 0} // [1 -> wte (2, 3), wpe(4, 5)] [0 -> wte (0, 1), wpe(6, 7)]\n",
    "    wte := []float32{0, 1, 2, 3}\n",
    "    wpe := []float32{4, 5, 6, 7}\n",
    "    B := 1 // Batch size\n",
    "    T := 1 // Sequence Len\n",
    "    C := 2 // Dimensions\n",
    "    out := make([]float32, len(inp))\n",
    "    encoderForward(out, inp, wte, wpe, B, T, C)\n",
    "    expectedOut := []float32{6, 8}\n",
    "    assert.Equal(t, expectedOut, out)\n",
    "}"
   ]
  },
  {
   "cell_type": "markdown",
   "id": "43fcaa31",
   "metadata": {
    "pycharm": {
     "name": "#%% md\n"
    }
   },
   "source": [
    "<a name=\"layernorm-forward\"></a>\n",
    "# Layernorm forward\n",
    "\n",
    "layernormForward normalizes the activations in each layer.\n",
    "It improves convergence in training and reduces sensitivity to initial parameters.\n",
    "For each vector, the mean and variance are calculated.\n",
    "\n",
    "\n",
    "Parameters:\n",
    "  - out: output activations (B,T,C)\n",
    "  - mean: mean values (B,T) for each position (b,t)\n",
    "  - rstd: reciprocal standard deviations (B,T) for each position (b,t)\n",
    "  - inp: input activations (B,T,C)\n",
    "  - weight: learnable weight (C) for scaling\n",
    "  - bias: learnable bias (C) for shifting\n",
    "  - B: batch size\n",
    "  - T: sequence length (number of time steps)\n",
    "  - C: embedding dimension (number of features)\n",
    "  \n",
    "\n",
    "### Papers\n",
    "- [**Layer Normalization**](https://arxiv.org/abs/1607.06450) - Layernorm was introduced in this paper.\n",
    "\n",
    "\n",
    "[back to top](#Introduction)"
   ]
  },
  {
   "cell_type": "code",
   "execution_count": 11,
   "id": "8ec02b8f",
   "metadata": {
    "collapsed": false,
    "jupyter": {
     "outputs_hidden": false
    },
    "pycharm": {
     "name": "#%%\n"
    }
   },
   "outputs": [],
   "source": [
    "func layernormForward(out, mean, rstd, inp, weight, bias []float32, B, T, C int) {\n",
    "\tvar eps float32 = 1e-5\n",
    "\tfor b := 0; b < B; b++ {\n",
    "\t\tfor t := 0; t < T; t++ {\n",
    "\t\t\tx := inp[b*T*C+t*C:]\n",
    "\t\t\t// Calculate mean\n",
    "\t\t\tvar m float32 = 0.0\n",
    "\t\t\tfor i := 0; i < C; i++ {\n",
    "\t\t\t\tm += x[i]\n",
    "\t\t\t}\n",
    "\t\t\tm /= float32(C)\n",
    "\t\t\t// Calculate variance\n",
    "\t\t\tvar v float32 = 0.0\n",
    "\t\t\tfor i := 0; i < C; i++ {\n",
    "\t\t\t\txshift := x[i] - m\n",
    "\t\t\t\tv += xshift * xshift\n",
    "\t\t\t}\n",
    "\t\t\tv /= float32(C)\n",
    "\t\t\t// Calculate rstd (reciprocal standard deviation)\n",
    "\t\t\ts := 1.0 / Sqrt((v)+eps)\n",
    "\t\t\t// Normalize, scale, shift, and store output\n",
    "\t\t\toutBT := out[b*T*C+t*C:]\n",
    "\t\t\tfor i := 0; i < C; i++ {\n",
    "\t\t\t\t// subtract mean to center data\n",
    "\t\t\t\t// divide by std to scale variance\n",
    "\t\t\t\t// (val - mean) / std\n",
    "\t\t\t\tn := s * (x[i] - m)\n",
    "\t\t\t\t// Multiply the weight\n",
    "\t\t\t\to := n*weight[i] + bias[i]\n",
    "\t\t\t\toutBT[i] = o\n",
    "\t\t\t}\n",
    "\t\t\t// Store mean and rstd for backward pass\n",
    "\t\t\tmean[b*T+t] = m\n",
    "\t\t\trstd[b*T+t] = s\n",
    "\t\t}\n",
    "\t}\n",
    "}"
   ]
  },
  {
   "cell_type": "markdown",
   "id": "2d4159aa",
   "metadata": {
    "pycharm": {
     "name": "#%% md\n"
    }
   },
   "source": [
    "# AttentionForward\n",
    "\n",
    "![attention](attention.svg)\n",
    "\n",
    "attentionForward performs the attention forward pass.\n",
    "\n",
    "attention is the only layer that mixes information across time\n",
    "every other operation is applied at every (b,t) position independently\n",
    "(and of course, no layer mixes information across batch)\n",
    "\n",
    "Parameters:\n",
    "  - out: output matrix (B,T,C)\n",
    "  - preatt: pre-attention scores (B,NH,T,T)\n",
    "  - att: post-attention scores (B,NH,T,T)\n",
    "  - inp: input matrix (B,T,3C) holding Query, Key, Value vectors\n",
    "  - B: batch size\n",
    "  - T: sequence length (number of time steps)\n",
    "  - C: input dimension (number of features)\n",
    "  - NH: number of attention heads\n",
    "\n",
    "### Papers\n",
    "\n",
    "- [**Attention Is All You Need**](https://arxiv.org/abs/1706.03762v7) - The attention mechanism was introduced in the original transformer paper.\n",
    "\n",
    "[back to top](#Introduction)"
   ]
  },
  {
   "cell_type": "code",
   "execution_count": 12,
   "id": "db8325c6",
   "metadata": {
    "collapsed": false,
    "jupyter": {
     "outputs_hidden": false
    },
    "pycharm": {
     "name": "#%%\n"
    }
   },
   "outputs": [],
   "source": [
    "func attentionForward(out, preatt, att, inp []float32, B, T, C, NH int) {\n",
    "\tC3 := C * 3  // This is the dimensions for the key, query and values\n",
    "\ths := C / NH // head size\n",
    "\tscale := 1.0 / Sqrt(float32(hs))\n",
    "\t// Iterate over batch, sequence length, and number of heads\n",
    "\tvar wg sync.WaitGroup\n",
    "\tfor b := 0; b < B; b++ {\n",
    "\t\t// Sequence length\n",
    "\t\tfor t := 0; t < T; t++ {\n",
    "\t\t\tfor h := 0; h < NH; h++ {\n",
    "\t\t\t\twg.Add(1)\n",
    "\t\t\t\tgo func(b, t, h int) {\n",
    "\t\t\t\t\tdefer wg.Done()\n",
    "\t\t\t\t\t// Calculate indices for query, pre-attention, and attention arrays\n",
    "\t\t\t\t\t// query is any particular input asking for information from other inputs\n",
    "\t\t\t\t\tqueryT := inp[b*T*C3+t*C3+h*hs:] // inp[B][T][C3]\n",
    "\t\t\t\t\tpreattBth := preatt[b*NH*T*T+h*T*T+t*T:]\n",
    "\t\t\t\t\tattBth := att[b*NH*T*T+h*T*T+t*T:]\n",
    "\t\t\t\t\t// Pass 1: Calculate query dot key and max value\n",
    "\t\t\t\t\t// The dot product is described in the paper as being better because\n",
    "\t\t\t\t\t// it can be optimized with matrix multiplication\n",
    "\t\t\t\t\tvar maxval float32 = -10000.0\n",
    "\t\t\t\t\t// range from 0 to the current inp\n",
    "\t\t\t\t\tfor t2 := 0; t2 <= t; t2++ {\n",
    "\t\t\t\t\t\t// Calculate key index for t2\n",
    "\t\t\t\t\t\tkey_t2 := inp[b*T*C3+t2*C3+h*hs+C:] // +C because it's key\n",
    "\t\t\t\t\t\t// Compute dot product and update max value\n",
    "\t\t\t\t\t\tvar val float32\n",
    "\t\t\t\t\t\tfor i := 0; i < hs; i++ {\n",
    "\t\t\t\t\t\t\tval += queryT[i] * key_t2[i]\n",
    "\t\t\t\t\t\t}\n",
    "\t\t\t\t\t\tval *= scale\n",
    "\t\t\t\t\t\tif val > maxval {\n",
    "\t\t\t\t\t\t\tmaxval = val\n",
    "\t\t\t\t\t\t}\n",
    "\t\t\t\t\t\t// preatt[b][h][t1][t2] == dot product (similarity) between query vector at position t1 and\n",
    "\t\t\t\t\t\t// key vector at t2.\n",
    "\t\t\t\t\t\tpreattBth[t2] = val\n",
    "\t\t\t\t\t}\n",
    "\t\t\t\t\t// Pass 2: Calculate the exp and keep track of sum\n",
    "\t\t\t\t\t// Calculate exponential sum and update preatt and att arrays\n",
    "\t\t\t\t\t// maps the max value to zero,\n",
    "\t\t\t\t\t// and everything else negative.\n",
    "\t\t\t\t\t// when the exp function is called then the range of numbers will be\n",
    "\t\t\t\t\t// between 0 and e.\n",
    "\t\t\t\t\tvar expsum float32\n",
    "\t\t\t\t\tfor t2 := 0; t2 <= t; t2++ {\n",
    "\t\t\t\t\t\texpv := Exp((preattBth[t2]) - maxval)\n",
    "\t\t\t\t\t\t// expsum is a sum of all the exp'd pre_att values\n",
    "\t\t\t\t\t\texpsum += expv\n",
    "\t\t\t\t\t\t// att_bth[t2] is the exp'd preatt_bth[t2]\n",
    "\t\t\t\t\t\tattBth[t2] = expv\n",
    "\t\t\t\t\t}\n",
    "\t\t\t\t\tvar expsum_inv float32\n",
    "\t\t\t\t\tif expsum != 0.0 {\n",
    "\t\t\t\t\t\texpsum_inv = 1.0 / expsum\n",
    "\t\t\t\t\t}\n",
    "\t\t\t\t\t// Pass 3: Normalize to get softmax\n",
    "\t\t\t\t\t// from 0 -> t2: att_bth[t2] = exp(preatt[t2]) / sum(exp(preatt[:]))\n",
    "\t\t\t\t\t// for everything else it's zero\n",
    "\t\t\t\t\tfor t2 := 0; t2 < T; t2++ {\n",
    "\t\t\t\t\t\tif t2 <= t {\n",
    "\t\t\t\t\t\t\tattBth[t2] *= expsum_inv\n",
    "\t\t\t\t\t\t} else {\n",
    "\t\t\t\t\t\t\t// Causal attention mask (optional; used for debugging and comparison)\n",
    "\t\t\t\t\t\t\tattBth[t2] = 0.0\n",
    "\t\t\t\t\t\t}\n",
    "\t\t\t\t\t}\n",
    "\n",
    "\t\t\t\t\t// Pass 4: Accumulate weighted values into the output of attention\n",
    "\t\t\t\t\t// out = attention * values\n",
    "\t\t\t\t\t// The values in this instance are the initial token/position embeddings that have gone through many linear\n",
    "\t\t\t\t\t// transformations at this point.\n",
    "\t\t\t\t\t// This is simply applying the learned attention \"weights\" to the lkqv values.\n",
    "\t\t\t\t\t// These weights must change a whole bunch after back propagation.\n",
    "\t\t\t\t\tout_bth := out[b*T*C+t*C+h*hs:]\n",
    "\t\t\t\t\tfor i := 0; i < hs; i++ {\n",
    "\t\t\t\t\t\tout_bth[i] = 0.0\n",
    "\t\t\t\t\t}\n",
    "\t\t\t\t\tfor t2 := 0; t2 <= t; t2++ {\n",
    "\t\t\t\t\t\tvalue_t2 := inp[b*T*C3+t2*C3+h*hs+C*2:] // +C*2 because it's value\n",
    "\t\t\t\t\t\tatt_btht2 := attBth[t2]\n",
    "\t\t\t\t\t\tfor i := 0; i < hs; i++ {\n",
    "\t\t\t\t\t\t\tout_bth[i] += att_btht2 * value_t2[i]\n",
    "\t\t\t\t\t\t}\n",
    "\t\t\t\t\t}\n",
    "\t\t\t\t}(b, t, h)\n",
    "\t\t\t}\n",
    "\t\t}\n",
    "\t}\n",
    "\twg.Wait()\n",
    "}"
   ]
  },
  {
   "cell_type": "code",
   "execution_count": 13,
   "id": "d4598ef5",
   "metadata": {
    "collapsed": false,
    "jupyter": {
     "outputs_hidden": false
    },
    "pycharm": {
     "name": "#%%\n"
    }
   },
   "outputs": [
    {
     "name": "stdout",
     "output_type": "stream",
     "text": [
      "=== RUN   TestAttentionForward\n",
      "=== RUN   TestAttentionForward/Small_Input_Test\n",
      "=== RUN   TestAttentionForward/Larger_Input_Test\n",
      "--- PASS: TestAttentionForward (0.00s)\n",
      "    --- PASS: TestAttentionForward/Small_Input_Test (0.00s)\n",
      "    --- PASS: TestAttentionForward/Larger_Input_Test (0.00s)\n",
      "PASS\n"
     ]
    }
   ],
   "source": [
    "%test\n",
    "func TestAttentionForward(t *testing.T) {\n",
    "\ttype args struct {\n",
    "\t\tinp []float32\n",
    "\t\tB   int\n",
    "\t\tT   int\n",
    "\t\tC   int\n",
    "\t\tNH  int\n",
    "\t}\n",
    "\ttests := []struct {\n",
    "\t\tname       string\n",
    "\t\targs       args\n",
    "\t\twantOut    []float32\n",
    "\t\twantPreatt []float32\n",
    "\t\twantAtt    []float32\n",
    "\t}{\n",
    "\t\t{\n",
    "\t\t\tname: \"Small Input Test\",\n",
    "\t\t\targs: args{\n",
    "\t\t\t\tinp: []float32{1, 2, 3, 4, 5, 6},\n",
    "\t\t\t\tB:   1,\n",
    "\t\t\t\tT:   1,\n",
    "\t\t\t\tC:   2,\n",
    "\t\t\t\tNH:  1,\n",
    "\t\t\t},\n",
    "\t\t\twantOut:    []float32{5, 6},\n",
    "\t\t\twantPreatt: []float32{7.7781744},\n",
    "\t\t\twantAtt:    []float32{1},\n",
    "\t\t},\n",
    "\t\t{\n",
    "\t\t\tname: \"Larger Input Test\",\n",
    "\t\t\targs: args{\n",
    "\t\t\t\tinp: []float32{ // (B, T, C3)\n",
    "\t\t\t\t\t/* B = 1 */\n",
    "\t\t\t\t\t/* T =  0 */\n",
    "\t\t\t\t\t/*qry*/ 1, 2, 3, // query compared against (4, 5, 6) but not (13, 14, 15) because it's in the future (t=1)\n",
    "\t\t\t\t\t/*key*/ 4, 5, 6,\n",
    "\t\t\t\t\t/*val*/ 7, 8, 9,\n",
    "\t\t\t\t\t/* T =  1 */\n",
    "\t\t\t\t\t/*qry*/ 10, 11, 12, // will be compared against (4, 5, 6) (t-1) and (13, 14, 15)\n",
    "\t\t\t\t\t/*key*/ 13, 14, 15,\n",
    "\t\t\t\t\t/*val*/ 16, 17, 18, // vals are updated to\n",
    "\t\t\t\t},\n",
    "\t\t\t\tB:  1,\n",
    "\t\t\t\tT:  2,\n",
    "\t\t\t\tC:  3,\n",
    "\t\t\t\tNH: 1,\n",
    "\t\t\t},\n",
    "\t\t\twantOut: []float32{ // (B, T, C)\n",
    "\t\t\t\t/*      B = 0       */\n",
    "\t\t\t\t/*      T = 0       */\n",
    "\t\t\t\t/* C =  0    1    2 */\n",
    "\t\t\t\t/*  */ 7, 8, 9,\n",
    "\t\t\t\t/* T = 1 */\n",
    "\t\t\t\t/* C =  0    1    2 */\n",
    "\t\t\t\t/*  */ 16, 17, 18,\n",
    "\t\t\t},\n",
    "\t\t\twantPreatt: []float32{ // (B, NH, T, T)\n",
    "\t\t\t\t/* B =  0    */\n",
    "\t\t\t\t/* NH = 0    */\n",
    "\t\t\t\t/*T =   1  2 */\n",
    "\t\t\t\t/*T=1*/ 18.475208, 0, // preatt: 18 -> 1, 0 -> 0\n",
    "\t\t\t\t/*T=2*/ 96.417496, 267.89053, // 96 -> 9, 267 -> 1\n",
    "\t\t\t},\n",
    "\t\t\twantAtt: []float32{ // (B, NH, T, T)\n",
    "\t\t\t\t/* B = 0     */\n",
    "\t\t\t\t/* NH = 0    */\n",
    "\t\t\t\t/*T =   1  2 */\n",
    "\t\t\t\t/*T=1*/ 1, 0,\n",
    "\t\t\t\t/*T=2*/ 0, 1,\n",
    "\t\t\t},\n",
    "\t\t},\n",
    "\t}\n",
    "\tfor _, tt := range tests {\n",
    "\t\tt.Run(tt.name, func(t *testing.T) {\n",
    "\t\t\tout, preatt, att := make([]float32, len(tt.wantOut)), make([]float32, len(tt.wantPreatt)), make([]float32, len(tt.wantAtt))\n",
    "\t\t\tattentionForward(out, preatt, att, tt.args.inp, tt.args.B, tt.args.T, tt.args.C, tt.args.NH)\n",
    "\t\t\tassert.InDeltaSlice(t, tt.wantOut, out, 1e-4, fmt.Sprintf(\"want: %v got: %v\", tt.wantOut, out))\n",
    "\t\t\tassert.InDeltaSlice(t, tt.wantPreatt, preatt, 1e-4, fmt.Sprintf(\"want: %v got: %v\", tt.wantPreatt, preatt))\n",
    "\t\t\tassert.InDeltaSlice(t, tt.wantAtt, att, 1e-4, fmt.Sprintf(\"want: %v got: %v\", tt.wantAtt, att))\n",
    "\t\t})\n",
    "\t}\n",
    "}\n"
   ]
  },
  {
   "cell_type": "markdown",
   "id": "2f09eb53",
   "metadata": {
    "pycharm": {
     "name": "#%% md\n"
    }
   },
   "source": [
    "# Residual forward\n",
    "\n",
    "![residual](residual.svg)\n",
    "\n",
    "residualForward implements a simple residual connection, a common technique used in deep neural networks to improve training and performance.\n",
    "\n",
    "\n",
    "### Papers\n",
    "\n",
    "- [**Deep Residual Learning for Image Recognition**](https://arxiv.org/pdf/1512.03385) - The introduction of residuals allowed for deeper networks. Before this paper the depth of a neural network was limited because it would diverge enough and back propagation was really, really difficult to do because of vanishing gradients. Residuals essentially have a “short circuit” past a block which limits how much the neural networks can influence.\n",
    "\n",
    "[back to top](#Introduction)"
   ]
  },
  {
   "cell_type": "code",
   "execution_count": 14,
   "id": "69eafe46",
   "metadata": {
    "collapsed": false,
    "jupyter": {
     "outputs_hidden": false
    },
    "pycharm": {
     "name": "#%%\n"
    }
   },
   "outputs": [],
   "source": [
    "func residualForward(out, inp1, inp2 []float32, N int) {\n",
    "\tfor i := 0; i < N; i++ {\n",
    "\t\tout[i] = inp1[i] + inp2[i]\n",
    "\t}\n",
    "}"
   ]
  },
  {
   "cell_type": "markdown",
   "id": "ec2d6262",
   "metadata": {
    "pycharm": {
     "name": "#%% md\n"
    }
   },
   "source": [
    "# geluForward\n",
    "The geluForward function applies the GELU activation to the input values stored in the inp slice and writes the activated values to the out slice.\n",
    "\n",
    "geluForward is the Gaussian Error Linear Units activation function.\n",
    "It leaves positive values mostly unchanged but\n",
    "maps negative value close to zero.\n",
    "This introduces \"non-linearity\" to the neural network and allows for the model to fit to functions that aren't just linear regressions.\n",
    "\n",
    "### Papers\n",
    "\n",
    "- [**Gaussian Error Linear Units (GELUs)**](https://arxiv.org/abs/1606.08415v5) - Activation function that leaves positive values unchanged but maps negative numbers to near zero. Other architectures use different activation functions. For example, OpenElm uses SwiGLU.\n",
    "\n",
    "[back to top](#Introduction)"
   ]
  },
  {
   "cell_type": "code",
   "execution_count": 15,
   "id": "335c69df",
   "metadata": {
    "collapsed": false,
    "jupyter": {
     "outputs_hidden": false
    },
    "pycharm": {
     "name": "#%%\n"
    }
   },
   "outputs": [],
   "source": [
    "var GELUSCALEFACTOR = Sqrt(2.0 / math.Pi)\n",
    "func geluForward(out, inp []float32, n int) {\n",
    "\tfor i := 0; i < n; i++ {\n",
    "\t\tx := inp[i]\n",
    "\t\tcube := 0.044715 * x * x * x\n",
    "\t\tout[i] = 0.5 * x * (1.0 + Tanh(GELUSCALEFACTOR*(x+cube)))\n",
    "\t}\n",
    "}"
   ]
  },
  {
   "cell_type": "markdown",
   "id": "454ce153",
   "metadata": {
    "pycharm": {
     "name": "#%% md\n"
    }
   },
   "source": [
    "# Softmax"
   ]
  },
  {
   "cell_type": "markdown",
   "id": "2fae46af",
   "metadata": {
    "pycharm": {
     "name": "#%% md\n"
    }
   },
   "source": [
    "softmaxForward calculates the softmax probabilities for a batch of input logits, converting them into a probability distribution over multiple classes. It's a common operation in neural networks, especially for classification tasks.\n",
    "\n",
    "[back to top](#Introduction)"
   ]
  },
  {
   "cell_type": "code",
   "execution_count": 16,
   "id": "38ffd1bd",
   "metadata": {
    "collapsed": false,
    "jupyter": {
     "outputs_hidden": false
    },
    "pycharm": {
     "name": "#%%\n"
    }
   },
   "outputs": [],
   "source": [
    "func softmaxForward(probs, logits []float32, B, T, V int) {\n",
    "\tvar wg sync.WaitGroup\n",
    "\tfor b := 0; b < B; b++ {\n",
    "\t\tfor t := 0; t < T; t++ {\n",
    "\t\t\twg.Add(1)\n",
    "\t\t\tgo func(b, t int) {\n",
    "\t\t\t\tdefer wg.Done()\n",
    "\t\t\t\tbaseIndex := b*T*V + t*V\n",
    "\t\t\t\tlogitsBT := logits[baseIndex : baseIndex+V]\n",
    "\t\t\t\tprobsBT := probs[baseIndex : baseIndex+V]\n",
    "\t\t\t\t// Numerical Stability\n",
    "\t\t\t\tvar maxval float32 = -10000.0\n",
    "\t\t\t\tfor i := 0; i < V; i++ {\n",
    "\t\t\t\t\tif logitsBT[i] > maxval {\n",
    "\t\t\t\t\t\tmaxval = logitsBT[i]\n",
    "\t\t\t\t\t}\n",
    "\t\t\t\t}\n",
    "\t\t\t\t// Calculate exponentials and sum\n",
    "\t\t\t\tvar sum float32\n",
    "\t\t\t\tfor i := 0; i < V; i++ {\n",
    "\t\t\t\t\tprobsBT[i] = Exp((logitsBT[i] - maxval))\n",
    "\t\t\t\t\tsum += probsBT[i] // Using float32 for potential precision gain\n",
    "\t\t\t\t}\n",
    "\t\t\t\t// Normalize\n",
    "\t\t\t\tfor i := 0; i < V; i++ {\n",
    "\t\t\t\t\tprobsBT[i] /= sum\n",
    "\t\t\t\t}\n",
    "\t\t\t}(b, t)\n",
    "\t\t}\n",
    "\t}\n",
    "\twg.Wait()\n",
    "}"
   ]
  },
  {
   "cell_type": "markdown",
   "id": "acfe2b43",
   "metadata": {
    "pycharm": {
     "name": "#%% md\n"
    }
   },
   "source": [
    "# CrossEntropyForward\n",
    "The function crossEntropyForward calculates the cross-entropy loss for a batch of predicted probability distributions and their corresponding target labels.\n",
    "\n",
    "[back to top](#Introduction)"
   ]
  },
  {
   "cell_type": "code",
   "execution_count": 17,
   "id": "3c812cc5",
   "metadata": {
    "collapsed": false,
    "jupyter": {
     "outputs_hidden": false
    },
    "pycharm": {
     "name": "#%%\n"
    }
   },
   "outputs": [],
   "source": [
    "// crossEntropyForward\n",
    "func crossEntropyForward(losses []float32, probs []float32, targets []int32, B, T, V int) {\n",
    "\t// Iterate over each batch\n",
    "\tfor b := 0; b < B; b++ {\n",
    "\t\t// Iterate over each time step in the sequence\n",
    "\t\tfor t := 0; t < T; t++ {\n",
    "\t\t\t// Calculate the index in the probability slice\n",
    "\t\t\tstartIndex := int32(b*T*V + t*V)\n",
    "\t\t\t// Get the correct index in the logits for the current batch and time step\n",
    "\t\t\tix := targets[b*T+t]\n",
    "\t\t\t// Calculate the cross-entropy loss\n",
    "\t\t\tprob := probs[startIndex+ix]\n",
    "\t\t\t// Calculate the negative log of the probability for the correct target index\n",
    "\t\t\tlosses[b*T+t] = -Log((prob))\n",
    "\t\t}\n",
    "\t}\n",
    "}\n"
   ]
  },
  {
   "cell_type": "markdown",
   "id": "b508fe04",
   "metadata": {
    "pycharm": {
     "name": "#%% md\n"
    }
   },
   "source": [
    "# Putting it all together"
   ]
  },
  {
   "cell_type": "code",
   "execution_count": 18,
   "id": "9fcea015",
   "metadata": {
    "collapsed": false,
    "jupyter": {
     "outputs_hidden": false
    },
    "pycharm": {
     "name": "#%%\n"
    }
   },
   "outputs": [],
   "source": [
    "type GPT2Config struct {\n",
    "\tMaxSeqLen int `json:\"max_seq_len\"`\n",
    "\tV         int `json:\"vocab_size\"`\n",
    "\tL         int `json:\"num_layers\"`\n",
    "\tNH        int `json:\"num_heads\"`\n",
    "\tC         int `json:\"channels\"`\n",
    "\tEOT       int32\n",
    "}\n",
    "\n",
    "\n",
    "type GPT2 struct {\n",
    "\tTokenizer Tokenizer\n",
    "\tConfig    GPT2Config // Hyper-parameters of the model\n",
    "\t// Params has the actual weights of the model. Params.Memory is for convenience to be able to set/reset parameters simply\n",
    "\tParams ParameterTensors // Weights of the model\n",
    "\t// Grads contains the delta/gradient that will eventually be applied to the params in the model\n",
    "\tGrads ParameterTensors // Gradients of the weights\n",
    "\t// Fields for AdamW optimizer\n",
    "\tMMemory []float32         // First moment estimates (for AdamW)\n",
    "\tVMemory []float32         // Second moment estimates (for AdamW)\n",
    "\tActs    ActivationTensors // Activations of the model\n",
    "\t// gradients of the activations\n",
    "\tGradsActs ActivationTensors\n",
    "\tB         int     // Current batch size (B)\n",
    "\tT         int     // Current sequence length (T)\n",
    "\tInputs    []int32 // Input tokens\n",
    "\tTargets   []int32 // Target tokens\n",
    "\tMeanLoss  float32 // Mean loss after a forward pass\n",
    "\tRand      *rand.Rand\n",
    "}\n",
    "\n",
    "\n",
    "func loadFromReader(f io.Reader) (*GPT2, error) {\n",
    "\theader := make([]int32, 256)\n",
    "\terr := binary.Read(f, binary.LittleEndian, header)\n",
    "\tif err != nil {\n",
    "\t\treturn nil, fmt.Errorf(\"error reading model header: %v\", err)\n",
    "\t}\n",
    "\tif header[0] != 20240326 || header[1] != 1 {\n",
    "\t\treturn nil, fmt.Errorf(\"bad model file format\")\n",
    "\t}\n",
    "\tmodel := &GPT2{\n",
    "\t\tConfig: GPT2Config{\n",
    "\t\t\tMaxSeqLen: int(header[2]),\n",
    "\t\t\tV:         int(header[3]),\n",
    "\t\t\tL:         int(header[4]),\n",
    "\t\t\tNH:        int(header[5]),\n",
    "\t\t\tC:         int(header[6]),\n",
    "\t\t\tEOT:       GPT2_EOT,\n",
    "\t\t},\n",
    "\t\tRand: rand.New(rand.NewSource(21)),\n",
    "\t}\n",
    "\tmodel.Params.Init(model.Config.V, model.Config.C, model.Config.MaxSeqLen, model.Config.L)\n",
    "\tif err := binary.Read(f, binary.LittleEndian, model.Params.Memory); err != nil {\n",
    "\t\treturn nil, fmt.Errorf(\"error reading model: %v\", err)\n",
    "\t}\n",
    "\treturn model, nil\n",
    "}\n",
    "// LoadGPT2Model loads the GPT-2 model from a checkpoint file.\n",
    "func LoadGPT2Model(checkpointPath, tokenizerFile string) (*GPT2, error) {\n",
    "\t// File Reading\n",
    "\tf, err := os.Open(checkpointPath)\n",
    "\tif err != nil {\n",
    "\t\treturn nil, fmt.Errorf(\"Error opening model file: %v\", err)\n",
    "\t}\n",
    "\tdefer f.Close()\n",
    "\t// Read Model Header\n",
    "\tmodel, err := loadFromReader(f)\n",
    "\tif err != nil {\n",
    "\t\treturn nil, err\n",
    "\t}\n",
    "\tif tokenizerFile == \"\" {\n",
    "\t\treturn model, err\n",
    "\t}\n",
    "\ttok, err := NewTokenizer(tokenizerFile)\n",
    "\tif err != nil {\n",
    "\t\treturn nil, err\n",
    "\t}\n",
    "\tmodel.Tokenizer = tok\n",
    "\treturn model, nil\n",
    "}"
   ]
  },
  {
   "cell_type": "markdown",
   "id": "96e95b8d",
   "metadata": {
    "pycharm": {
     "name": "#%% md\n"
    }
   },
   "source": [
    "# Forward\n",
    "The function Forward implements the forward pass of a GPT-2 language model. It takes a sequence of input tokens and a sequence of target tokens (if available) as input, and it calculates the model's output probabilities for the next token in the sequence.\n",
    "\n",
    "[back to top](#Introduction)"
   ]
  },
  {
   "cell_type": "code",
   "execution_count": 19,
   "id": "b1db5120",
   "metadata": {
    "collapsed": false,
    "jupyter": {
     "outputs_hidden": false
    },
    "pycharm": {
     "name": "#%%\n"
    }
   },
   "outputs": [],
   "source": [
    "func (model *GPT2) Forward(input, target []int32, B, T int) {\n",
    "\tV, L, NH, C := model.Config.V, model.Config.L, model.Config.NH, model.Config.C\n",
    "\tif model.Acts.Memory == nil {\n",
    "\t\tmodel.B, model.T = B, T\n",
    "\t\tmodel.Acts.Init(B, C, T, L, NH, V)\n",
    "\t\tmodel.Inputs = make([]int32, B*T)\n",
    "\t\tmodel.Targets = make([]int32, B*T)\n",
    "\t}\n",
    "\tcopy(model.Inputs, input)\n",
    "\tcopy(model.Targets, target)\n",
    "\tparams, acts := model.Params, model.Acts\n",
    "\t// This encodes the word token embeddings with the positional embeddings\n",
    "\t// so that those vectors have spacial information and aren't just purely made up of the\n",
    "\t// token embeddings. The result of this is stored in acts.Encoded.\n",
    "\t// Input is a slice of ids/tokens that correspond to the vectors in WTE and their index is the \"position\"\n",
    "\tencoderForward(acts.Encoded.data, input, params.WordTokEmbed.data, params.WordPosEmbed.data, B, T, C)\n",
    "\tvar residual []float32\n",
    "\tfor l := 0; l < L; l++ {\n",
    "\t\t// residual is a connection between the last layers output, or the initial token/pos embedding (as applied above)\n",
    "\t\tif l == 0 {\n",
    "\t\t\tresidual = acts.Encoded.data\n",
    "\t\t} else {\n",
    "\t\t\tresidual = acts.Residual3.data[(l-1)*B*T*C:]\n",
    "\t\t}\n",
    "\t\t// Parameters\n",
    "\t\tl_ln1w := params.LayerNorm1W.data[l*C:]\n",
    "\t\tl_ln1b := params.LayerNorm1B.data[l*C:]\n",
    "\t\tl_qkvw := params.QueryKeyValW.data[l*3*C*C:]\n",
    "\t\tl_qkvb := params.QueryKeyValB.data[l*3*C:]\n",
    "\t\tl_attprojw := params.AttProjW.data[l*C*C:]\n",
    "\t\tl_attprojb := params.AttProjB.data[l*C:]\n",
    "\t\tl_ln2w := params.Layer2NormW.data[l*C:]\n",
    "\t\tl_ln2b := params.Layer2NormB.data[l*C:]\n",
    "\t\tl_fcw := params.FeedFwdW.data[l*4*C*C:]\n",
    "\t\tl_fcb := params.FeedFwdB.data[l*4*C:]\n",
    "\t\tl_fcprojw := params.FeedFwdProjW.data[l*C*4*C:]\n",
    "\t\tl_fcprojb := params.FeedFwdProjB.data[l*C:]\n",
    "\t\t// Activations\n",
    "\t\tl_ln1 := acts.Layer1Act.data[l*B*T*C:]\n",
    "\t\tl_ln1_mean := acts.LayerNorm1Mean.data[l*B*T:]\n",
    "\t\tl_ln1_rstd := acts.LayerNorm1Rstd.data[l*B*T:]\n",
    "\t\tl_qkv := acts.QueryKeyVal.data[l*B*T*3*C:]\n",
    "\t\tl_atty := acts.AttentionInter.data[l*B*T*C:]\n",
    "\t\tl_preatt := acts.PreAttention.data[l*B*NH*T*T:]\n",
    "\t\tl_att := acts.Attention.data[l*B*NH*T*T:]\n",
    "\t\tl_attproj := acts.AttentionProj.data[l*B*T*C:]\n",
    "\t\tl_residual2 := acts.Residual2.data[l*B*T*C:]\n",
    "\t\tl_ln2 := acts.LayerNorm2Act.data[l*B*T*C:]\n",
    "\t\tl_ln2_mean := acts.LayerNorm2Mean.data[l*B*T:]\n",
    "\t\tl_ln2_rstd := acts.LayerNorm2Rstd.data[l*B*T:]\n",
    "\t\tl_fch := acts.FeedForward.data[l*B*T*4*C:]\n",
    "\t\tl_fch_gelu := acts.FeedForwardGelu.data[l*B*T*4*C:]\n",
    "\t\tl_fcproj := acts.FeedForwardProj.data[l*B*T*C:]\n",
    "\t\tl_residual3 := acts.Residual3.data[l*B*T*C:]\n",
    "\t\t// Here we normalise the layer so that the mean is 0 and the standard deviation is ~1.\n",
    "\t\t// residual contains the un-edited activations\n",
    "\t\tlayernormForward(l_ln1, l_ln1_mean, l_ln1_rstd, residual /*inp*/, l_ln1w /*weight*/, l_ln1b /*bias*/, B, T, C)\n",
    "\t\t/*\n",
    "\t\t\t\t\tl_qkvw = weight = Query Key Val Weights (C * 3C)\n",
    "\t\t\t\t\tl_ln1 = inp = layer activations\n",
    "\t\t\t\t\tl_qkvb = bias = Query Key Val Bias\n",
    "\t\t\t\t\tl_qkv = out = key/query/value matrix\n",
    "\t\t\t\tHere we're matrix multiplying  l_ln1(inp)*l_qkvw(weight) + l_qkvb(bias)\n",
    "\t\t\t\tThis matrix multiplication essentially gets a layer activation for the model inputs (activations) which are multiplied\n",
    "\t\t\t\tby the model weights.\n",
    "\t\t\tThis does the input \"projection\" via linear transformations via the model query/key/value weights into higher dimensionality.\n",
    "\t\t*/\n",
    "\t\tmatmulForward(l_qkv, l_ln1, l_qkvw, l_qkvb, B, T, C, 3*C)\n",
    "\t\t/*\n",
    "\t\t\tThe attention forward pass takes these query/key/value vectors, along with the model attention weights\n",
    "\t\t\tThe model pre-attention scores, after the forward pass, have the un-normalised attention scores\n",
    "\t\t\tatt has the attention acores and l_atty has the attention scores + the query/key/value scores\n",
    "\t\t\tl_qkv has the projection of the activations into a higher dimension.\n",
    "\t\t\tl_preatt: has the projection qkv vectors dot product(similarity), between an input's query and another input's key.\n",
    "\t\t\t\tThis basically goes like this:\n",
    "\t\t\t\tword a: has a query vector \"what am i looking for\"\n",
    "\t\t\t\tword b: has a query vector \"what do i need\"\n",
    "\t\t\t\tif they're similar, these vectors will be similar, therefore the scores will be high and be stored in l_preatt\n",
    "\t\t\tthe v in the qkv is the original token/position embeddings which have been through a number of linear transformations at this point.\n",
    "\t\t*/\n",
    "\t\tattentionForward(l_atty, l_preatt, l_att, l_qkv, B, T, C, NH)\n",
    "\n",
    "\t\t/*\n",
    "\t\t\tHere we do another matrix multiplication of attention weights and biases\n",
    "\t\t\tThis projects the l_atty into another dimension. These will probably also get back propagated.\n",
    "\t\t*/\n",
    "\t\tmatmulForward(l_attproj, l_atty, l_attprojw, l_attprojb, B, T, C, C)\n",
    "\t\t/*\n",
    "\t\t\tThe residual forward simply adds the attention projection and the residual layer, which is the\n",
    "\t\t\tweights(or activations?) before any of the previous transformations. This allows a stronger signal and\n",
    "\t\t\tprevents weight dropout and i think makes back propagation more efficient.\n",
    "\t\t*/\n",
    "\t\tresidualForward(l_residual2, residual, l_attproj, B*T*C)\n",
    "\t\t/*\n",
    "\t\t\tThe weights in this level are the layer 2 activations, which are multiplied with the residual through the above sections\n",
    "\t\t\tThis is normalised and everything into layernorm2\n",
    "\t\t*/\n",
    "\t\tlayernormForward(l_ln2, l_ln2_mean, l_ln2_rstd, l_residual2, l_ln2w, l_ln2b, B, T, C)\n",
    "\t\t/*\n",
    "\t\t\tFeedforward is just another layer of a multi layer perceptron to make the \"higher level\" connections.\n",
    "\t\t*/\n",
    "\t\tmatmulForward(l_fch, l_ln2, l_fcw, l_fcb, B, T, C, 4*C)\n",
    "\t\t/*\n",
    "\t\t\tThis is an acitvation function which maps large values to close to one and smaller values to zero.\n",
    "\t\t*/\n",
    "\t\tgeluForward(l_fch_gelu, l_fch, B*T*4*C)\n",
    "\t\t/*\n",
    "\t\t\tThis now squishes the last layer into a smaller dimension so it can be added to the next layer.\n",
    "\t\t*/\n",
    "\t\tmatmulForward(l_fcproj, l_fch_gelu, l_fcprojw, l_fcprojb, B, T, 4*C, C)\n",
    "\t\t/*\n",
    "\t\t\tNow we set the next residual layer as the output of this layer. This is the l_fcproj + the current layer residual\n",
    "\t\t*/\n",
    "\t\tresidualForward(l_residual3, l_residual2, l_fcproj, B*T*C)\n",
    "\t}\n",
    "\tresidual = acts.Residual3.data[(L-1)*B*T*C:]\n",
    "\n",
    "\t/*\n",
    "\t\tNow this is the last thing. We're layer norming the final layer activations so that the logits can be calculated\n",
    "\n",
    "\t*/\n",
    "\tlayernormForward(acts.LayerNormFinal.data, acts.LayerNormFinalMean.data, acts.LayerNormFinalStd.data, residual, params.LayerFinNormW.data, params.LayerFinNormB.data, B, T, C)\n",
    "\t/*\n",
    "\t\t\tMatrix multiplying the Word Token embedding gives us the logits.\n",
    "\t\tThis is calculating a weighted sum. More likely tokens will be blown up and less likely will be zero or negative.\n",
    "\t*/\n",
    "\tmatmulForward(acts.Logits.data, acts.LayerNormFinal.data, params.WordTokEmbed.data, nil, B, T, C, V)\n",
    "\t/*\n",
    "\t\tAfter all of this we can softmax the logits to get probabilities over the entire vocabulary\n",
    "\t*/\n",
    "\tsoftmaxForward(acts.Probabilities.data, acts.Logits.data, B, T, V)\n",
    "\t// also forward the cross-entropy loss function if we have the targets\n",
    "\tif len(target) > 0 {\n",
    "\t\t/*\n",
    "\t\t\tThis compares the probabilities for each token and compares it to the target to calculate a loss.\n",
    "\t\t*/\n",
    "\t\tcrossEntropyForward(model.Acts.Losses.data, model.Acts.Probabilities.data, target, B, T, V)\n",
    "\t\t// for convenience also evaluate the mean loss\n",
    "\t\tvar meanLoss float32\n",
    "\t\tfor i := range model.Acts.Losses.data {\n",
    "\t\t\tmeanLoss += model.Acts.Losses.data[i]\n",
    "\t\t}\n",
    "\t\tmeanLoss /= float32(B * T)\n",
    "\t\tmodel.MeanLoss = meanLoss\n",
    "\n",
    "\t} else {\n",
    "\t\tmodel.MeanLoss = -1.0\n",
    "\t}\n",
    "}"
   ]
  },
  {
   "cell_type": "markdown",
   "id": "22c7a244",
   "metadata": {
    "pycharm": {
     "name": "#%% md\n"
    }
   },
   "source": [
    "# Sampling\n",
    "\n",
    "The probabilities are a float array of:\n",
    "\n",
    "index/tokenid:probability\n",
    "\n",
    "coin is a random value between 0 and 1. \n",
    "\n",
    "We start with a cumulative sum, and when it gets above our target coin, we return. \n",
    "\n",
    "This makes it that the most likely token returned is the one that has the most probability, but we still have the possibiility of choosing other ones, proportional to how likley they are.\n",
    "\n",
    "[back to top](#Introduction)"
   ]
  },
  {
   "cell_type": "code",
   "execution_count": 20,
   "id": "46e2510f",
   "metadata": {
    "collapsed": false,
    "jupyter": {
     "outputs_hidden": false
    },
    "pycharm": {
     "name": "#%%\n"
    }
   },
   "outputs": [],
   "source": [
    "func sampleMult(probabilities []float32, coin float32) int {\n",
    "\tvar cdf float32\n",
    "\tfor i, prob := range probabilities {\n",
    "\t\tcdf += prob\n",
    "\t\tif coin < cdf {\n",
    "\t\t\treturn i\n",
    "\t\t}\n",
    "\t}\n",
    "\treturn len(probabilities) - 1\n",
    "}\n"
   ]
  },
  {
   "cell_type": "code",
   "execution_count": 21,
   "id": "6119e37c",
   "metadata": {
    "collapsed": false,
    "jupyter": {
     "outputs_hidden": false
    },
    "pycharm": {
     "name": "#%%\n"
    }
   },
   "outputs": [],
   "source": [
    "func (model *GPT2) Inference(input string) (string, error) {\n",
    "\tB, T, nTokens := 1, 64, 20\n",
    "\tstart := time.Now()\n",
    "\tdefer func() {\n",
    "\t\tfmt.Printf(\"inference time took: %v\\n\", time.Now().Sub(start))\n",
    "\t}()\n",
    "\ttokens, err := model.Tokenizer.Encode(input)\n",
    "\t//prompt_len := len(tokens)\n",
    "\tif err != nil {\n",
    "\t\treturn \"\", err\n",
    "\t}\n",
    "\tif len(tokens) < T {\n",
    "\t\tfor i := len(tokens); i <= T; i++ {\n",
    "\t\t\ttokens = append(tokens, model.Config.EOT)\n",
    "\t\t}\n",
    "\t}\n",
    "\tfmt.Printf(\"input is %d tokens long\\n\", len(tokens))\n",
    "\tmodel.Forward(tokens, tokens[1:], B, T)\n",
    "\tfor t := 1; t < nTokens; t++ {\n",
    "\t\t// for each t, we re-compute all activations between 0 and t\n",
    "\t\t// leaving this alone because you want separate code for inference anyway\n",
    "\t\t// the inference here is just for sanity checking purposes\n",
    "\t\tmodel.Forward(tokens, nil, B, t)\n",
    "\t\tprobabilities := model.Acts.Probabilities.data[(t-1)*model.Config.V:]\n",
    "\t\tcoin := model.Rand.Float32()\n",
    "\t\tnextToken2 := sampleMult(probabilities, coin)\n",
    "\t\ttokens[t] = rune(nextToken2)\n",
    "\t\tout, err := model.Tokenizer.Decode([]int32{tokens[t]})\n",
    "\t\tif err != nil {\n",
    "\t\t\tpanic(err)\n",
    "\t\t}\n",
    "\t\tfmt.Print(out)\n",
    "\n",
    "\t}\n",
    "\treturn model.Tokenizer.Decode(tokens)\n",
    "}"
   ]
  },
  {
   "cell_type": "code",
   "execution_count": 22,
   "id": "a28db5d2",
   "metadata": {
    "collapsed": false,
    "jupyter": {
     "outputs_hidden": false
    },
    "pycharm": {
     "name": "#%%\n"
    }
   },
   "outputs": [],
   "source": [
    "func newGPT2(MaxSeqLen, V, L, NH, C int, vocab []string) GPT2 {\n",
    "\tmodel := GPT2{\n",
    "\t\tConfig: GPT2Config{\n",
    "\t\t\tMaxSeqLen: MaxSeqLen,\n",
    "\t\t\tV:         V,\n",
    "\t\t\tL:         L,\n",
    "\t\t\tNH:        NH,\n",
    "\t\t\tC:         C,\n",
    "\t\t},\n",
    "\t\tParams:    newParameterTensors(V, C, MaxSeqLen, L),\n",
    "\t\tTokenizer: newTokenizer(vocab),\n",
    "\t\tRand:      rand.New(rand.NewSource(21)),\n",
    "\t}\n",
    "\treturn model\n",
    "}"
   ]
  },
  {
   "cell_type": "markdown",
   "id": "08145b3a-cd13-446e-a00b-6c16451b114d",
   "metadata": {},
   "source": [
    "# Do some inference"
   ]
  },
  {
   "cell_type": "code",
   "execution_count": 39,
   "id": "b082be1c",
   "metadata": {
    "collapsed": false,
    "jupyter": {
     "outputs_hidden": false
    },
    "pycharm": {
     "name": "#%%\n"
    }
   },
   "outputs": [
    {
     "name": "stdout",
     "output_type": "stream",
     "text": [
      "input is 65 tokens long\n",
      "ahlvinyl.org> <link rel=\"stylesheet\"><span class=\"affiliate iconinference time took: 6.370601958s\n"
     ]
    }
   ],
   "source": [
    "%%\n",
    "\n",
    "path := \"/Users/joshcarp/Documents/the-interactive-transformer/\"\n",
    "model, err := LoadGPT2Model(path+\"/gpt2_124M.bin\", path+\"/gpt2_tokenizer.bin\")\n",
    "if err != nil {\n",
    "    panic(err)\n",
    "}\n",
    "gonbui.RequestInput(\"gpt2 text complete: \", false)\n",
    "reader := bufio.NewReader(os.Stdin)\n",
    "inputText, err := reader.ReadString('\\n')\n",
    "if err != nil {\n",
    "    panic(err)\n",
    "}\n",
    "_, err = model.Inference(inputText)\n",
    "if err != nil {\n",
    "    panic(err)\n",
    "}\n"
   ]
  },
  {
   "cell_type": "markdown",
   "id": "2ccc8f1e",
   "metadata": {
    "pycharm": {
     "name": "#%% md\n"
    }
   },
   "source": [
    "# Backward Pass\n",
    "The backwards pass is where the \"learning\" happens. It is used to update the weights of the model. \n",
    "If we're using the model for inference, deploying it as a chatbot, etc, we don't do a backwards pass.\n",
    "\n",
    "The backward pass calculates the difference between the predicted tokens (before the sampling), and calculates a gradient based on the learning algorithm.\n",
    "\n",
    "\n",
    ":::{iframe} https://www.youtube.com/embed?v=Ilg3gGewQ5U\n",
    ":width: 100%\n",
    "Backpropagation\n",
    ":::\n",
    "\n",
    "\n",
    "### Papers\n",
    "- [**Learning representations by back-propagating errors**](https://www.cs.utoronto.ca/~hinton/absps/naturebp.pdf) - Back-propagation was introduced here, couldn’t find the original paper. This was done by Hinton and co and was what lead to the AI era of the 80s.\n",
    "\n",
    "[back to top](#Introduction)"
   ]
  },
  {
   "cell_type": "markdown",
   "id": "b403bce5",
   "metadata": {
    "pycharm": {
     "name": "#%% md\n"
    }
   },
   "source": [
    "# crossentropySoftmaxBackward\n",
    "The function computes the gradients of the logits (dlogits) with respect to the loss, given the probabilities (probs) and target labels (targets).\n",
    "This gradient information is used during backpropagation to update the weights and biases of the network to minimize the cross-entropy loss.\n",
    "\n",
    "[back to top](#Introduction)"
   ]
  },
  {
   "cell_type": "code",
   "execution_count": 24,
   "id": "64a352a2",
   "metadata": {
    "collapsed": false,
    "jupyter": {
     "outputs_hidden": false
    },
    "pycharm": {
     "name": "#%%\n"
    }
   },
   "outputs": [],
   "source": [
    "// crossentropySoftmaxBackward calculates the cross entropy\n",
    "func crossentropySoftmaxBackward(dlogits, dlosses, probs []float32, targets []int32, B, T, V int) {\n",
    "\tfor b := 0; b < B; b++ {\n",
    "\t\tfor t := 0; t < T; t++ {\n",
    "\t\t\tbaseIndex := b*T*V + t*V\n",
    "\t\t\tdlogitsBT := dlogits[baseIndex : baseIndex+V]\n",
    "\t\t\tprobsBT := probs[baseIndex : baseIndex+V]\n",
    "\t\t\tdloss := dlosses[b*T+t]\n",
    "\t\t\tix := targets[b*T+t]\n",
    "\t\t\tfor i := 0; i < V; i++ {\n",
    "\t\t\t\tp := probsBT[i]\n",
    "\t\t\t\tvar indicator float32\n",
    "\t\t\t\tif int32(i) == ix {\n",
    "\t\t\t\t\tindicator = 1.0\n",
    "\t\t\t\t} else {\n",
    "\t\t\t\t\tindicator = 0.0\n",
    "\t\t\t\t}\n",
    "\t\t\t\tdlogitsBT[i] += (p - indicator) * dloss\n",
    "\t\t\t}\n",
    "\t\t}\n",
    "\t}\n",
    "}\n"
   ]
  },
  {
   "cell_type": "markdown",
   "id": "ccf3457e",
   "metadata": {
    "pycharm": {
     "name": "#%% md\n"
    }
   },
   "source": [
    "# matmulBackward\n",
    "\n",
    "The function computes the gradients of the inputs (dinp), weights (dweight), and biases (dbias) for a matrix multiplication operation. These gradients are necessary for adjusting the model parameters during training to minimize the error.\n",
    "\n",
    "[back to top](#Introduction)"
   ]
  },
  {
   "cell_type": "code",
   "execution_count": 25,
   "id": "22a692e3",
   "metadata": {
    "collapsed": false,
    "jupyter": {
     "outputs_hidden": false
    },
    "pycharm": {
     "name": "#%%\n"
    }
   },
   "outputs": [],
   "source": [
    "func matmulBackward(dinp, dweight, dbias, dout, inp, weight []float32, B, T, C, OC int) {\n",
    "\tvar wg sync.WaitGroup\n",
    "\tfor b := 0; b < B; b++ {\n",
    "\t\tfor t := 0; t < T; t++ {\n",
    "\t\t\twg.Add(1)\n",
    "\t\t\tgo func(b, t int) {\n",
    "\t\t\t\tdefer wg.Done()\n",
    "\t\t\t\tdoutBt := dout[b*T*OC+t*OC:]\n",
    "\t\t\t\tdinpBt := dinp[b*T*C+t*C:]\n",
    "\t\t\t\tfor o := 0; o < OC; o++ {\n",
    "\t\t\t\t\twrow := weight[o*C:]\n",
    "\t\t\t\t\td := doutBt[o]\n",
    "\t\t\t\t\tfor i := 0; i < C; i++ {\n",
    "\t\t\t\t\t\tdinpBt[i] += wrow[i] * d\n",
    "\t\t\t\t\t}\n",
    "\t\t\t\t}\n",
    "\t\t\t}(b, t)\n",
    "\t\t}\n",
    "\t}\n",
    "\twg.Wait()\n",
    "\tfor o := 0; o < OC; o++ {\n",
    "\t\twg.Add(1)\n",
    "\t\tgo func(o int) {\n",
    "\t\t\tdefer wg.Done()\n",
    "\t\t\tfor b := 0; b < B; b++ {\n",
    "\t\t\t\tfor t := 0; t < T; t++ {\n",
    "\t\t\t\t\tdoutBt := dout[b*T*OC+t*OC:]\n",
    "\t\t\t\t\tinpBt := inp[b*T*C+t*C:]\n",
    "\t\t\t\t\tdwrow := dweight[o*C:]\n",
    "\t\t\t\t\td := doutBt[o]\n",
    "\t\t\t\t\tif dbias != nil {\n",
    "\t\t\t\t\t\tdbias[o] += d\n",
    "\t\t\t\t\t}\n",
    "\t\t\t\t\tfor i := 0; i < C; i++ {\n",
    "\t\t\t\t\t\tdwrow[i] += inpBt[i] * d\n",
    "\t\t\t\t\t}\n",
    "\t\t\t\t}\n",
    "\t\t\t}\n",
    "\t\t}(o)\n",
    "\t}\n",
    "\twg.Wait()\n",
    "}"
   ]
  },
  {
   "cell_type": "markdown",
   "id": "61f21f75",
   "metadata": {
    "pycharm": {
     "name": "#%% md\n"
    }
   },
   "source": [
    "# layernormBackward\n",
    "The function layernormBackward calculates the gradients for the backward pass of a Layer Normalization (LayerNorm) operation in a neural network. Here's a breakdown of what it does:\n",
    "\n",
    "Layer Normalization is a technique used to normalize the activations of a layer across its features, improving the training stability and performance of deep neural networks. It involves normalizing the input to have zero mean and unit variance. This function calculates the gradients needed to update the weights and biases of the LayerNorm operation during backpropagation.\n",
    "\n",
    "[back to top](#Introduction)"
   ]
  },
  {
   "cell_type": "code",
   "execution_count": 26,
   "id": "7c1ecd61",
   "metadata": {
    "collapsed": false,
    "jupyter": {
     "outputs_hidden": false
    },
    "pycharm": {
     "name": "#%%\n"
    }
   },
   "outputs": [],
   "source": [
    "func layernormBackward(dinp, dweight, dbias, dout, inp, weight, mean, rstd []float32, B, T, C int) {\n",
    "\tfor b := 0; b < B; b++ {\n",
    "\t\tfor t := 0; t < T; t++ {\n",
    "\t\t\tbaseIndex := b*T*C + t*C\n",
    "\t\t\tdoutBT := dout[baseIndex : baseIndex+C]\n",
    "\t\t\tinpBT := inp[baseIndex : baseIndex+C]\n",
    "\t\t\tdinpBT := dinp[baseIndex : baseIndex+C]\n",
    "\t\t\tmeanBT := mean[b*T+t]\n",
    "\t\t\trstdBT := rstd[b*T+t]\n",
    "\n",
    "\t\t\t// Reduce operations\n",
    "\t\t\tvar dnormMean float32 = 0.0\n",
    "\t\t\tvar dnormNormMean float32 = 0.0\n",
    "\t\t\tfor i := 0; i < C; i++ {\n",
    "\t\t\t\tnormBTI := (inpBT[i] - meanBT) * rstdBT\n",
    "\t\t\t\tdnormI := weight[i] * doutBT[i]\n",
    "\t\t\t\tdnormMean += dnormI\n",
    "\t\t\t\tdnormNormMean += dnormI * normBTI\n",
    "\t\t\t}\n",
    "\t\t\tdnormMean /= float32(C)\n",
    "\t\t\tdnormNormMean /= float32(C)\n",
    "\n",
    "\t\t\t// Accumulation loop\n",
    "\t\t\tfor i := 0; i < C; i++ {\n",
    "\t\t\t\tnormBTI := (inpBT[i] - meanBT) * rstdBT\n",
    "\t\t\t\tdnormI := weight[i] * doutBT[i]\n",
    "\t\t\t\tdbias[i] += doutBT[i]\n",
    "\t\t\t\tdweight[i] += normBTI * doutBT[i]\n",
    "\n",
    "\t\t\t\tvar dval float32\n",
    "\t\t\t\tdval += dnormI                  // Term 1\n",
    "\t\t\t\tdval -= dnormMean               // Term 2\n",
    "\t\t\t\tdval -= normBTI * dnormNormMean // Term 3\n",
    "\t\t\t\tdval *= rstdBT                  // Final scale\n",
    "\t\t\t\tdinpBT[i] += dval\n",
    "\t\t\t}\n",
    "\t\t}\n",
    "\t}\n",
    "}\n"
   ]
  },
  {
   "cell_type": "markdown",
   "id": "3d2ce6a3",
   "metadata": {
    "pycharm": {
     "name": "#%% md\n"
    }
   },
   "source": [
    "# residualBackward\n",
    "The function residualBackward calculates the gradients for the backward pass of a residual connection in a neural network. Here's a breakdown of what it does:\n",
    "\n",
    "[back to top](#Introduction)"
   ]
  },
  {
   "cell_type": "code",
   "execution_count": 27,
   "id": "be5f6717",
   "metadata": {
    "collapsed": false,
    "jupyter": {
     "outputs_hidden": false
    },
    "pycharm": {
     "name": "#%%\n"
    }
   },
   "outputs": [],
   "source": [
    "func residualBackward(dinp1, dinp2, dout []float32, N int) {\n",
    "\tfor i := 0; i < N; i++ {\n",
    "\t\tdinp1[i] += dout[i]\n",
    "\t\tdinp2[i] += dout[i]\n",
    "\t}\n",
    "}"
   ]
  },
  {
   "cell_type": "markdown",
   "id": "405756e6",
   "metadata": {
    "pycharm": {
     "name": "#%% md\n"
    }
   },
   "source": [
    "# geluBackward\n",
    "\n",
    "Computes the gradient of the Gaussian Error Linear Unit (GELU) activation function for backpropagation in a neural network.\n",
    " \n",
    " [back to top](#Introduction)"
   ]
  },
  {
   "cell_type": "code",
   "execution_count": 28,
   "id": "d7645d74",
   "metadata": {
    "collapsed": false,
    "jupyter": {
     "outputs_hidden": false
    },
    "pycharm": {
     "name": "#%%\n"
    }
   },
   "outputs": [],
   "source": [
    "// geluBackward computes the backward pass of the GeLU non-linearity\n",
    "func geluBackward(dinp, inp, dout []float32, n int) {\n",
    "\tfor i := 0; i < n; i++ {\n",
    "\t\tx := inp[i]\n",
    "\t\tcube := 0.044715 * x * x * x\n",
    "\t\ttanhArg := GELUSCALEFACTOR * (x + cube)\n",
    "\t\ttanhOut := Tanh(tanhArg)\n",
    "\t\tcoshfOut := Cosh(tanhArg)\n",
    "\t\tsechOut := 1.0 / (coshfOut * coshfOut)\n",
    "\t\tlocalGrad := 0.5*(1.0+tanhOut) + x*0.5*sechOut*GELUSCALEFACTOR*(1.0+3.0*0.044715*x*x)\n",
    "\t\tdinp[i] += localGrad * dout[i]\n",
    "\t}\n",
    "}\n"
   ]
  },
  {
   "cell_type": "markdown",
   "id": "540ebf19",
   "metadata": {
    "pycharm": {
     "name": "#%% md\n"
    }
   },
   "source": [
    "# attentionBackward\n",
    "The attentionBackward function implements the backward pass for a self-attention mechanism in a neural network. This is a crucial part of training attention-based models, like transformers. It calculates the gradients of the attention weights, queries, keys, and values with respect to the outputs of the attention layer, allowing the model to adjust its parameters to improve performance.\n",
    "\n",
    "[back to top](#Introduction)"
   ]
  },
  {
   "cell_type": "code",
   "execution_count": 29,
   "id": "53e3b2a6",
   "metadata": {
    "collapsed": false,
    "jupyter": {
     "outputs_hidden": false
    },
    "pycharm": {
     "name": "#%%\n"
    }
   },
   "outputs": [],
   "source": [
    "// attentionBackward performs the backward pass for an attention mechanism\n",
    "func attentionBackward(dinp, dpreatt, datt, dout, inp, att []float32, B, T, C, NH int) {\n",
    "\t// C3 is 3 times C, representing the size of Q, K, and V combined\n",
    "\tC3 := C * 3\n",
    "\t// hs is the size of each head\n",
    "\ths := C / NH\n",
    "\t// scale is the factor used in the forward pass to scale the dot product\n",
    "\tscale := 1.0 / Sqrt(float32(hs))\n",
    "\t// Iterate through batch, time, and heads\n",
    "\tfor b := 0; b < B; b++ {\n",
    "\t\tfor t := 0; t < T; t++ {\n",
    "\t\t\tfor h := 0; h < NH; h++ {\n",
    "\t\t\t\t// Calculate the indices for the arrays in this specific iteration\n",
    "\t\t\t\tattBTH := att[b*NH*T*T+h*T*T+t*T:]\n",
    "\t\t\t\tdattBTH := datt[b*NH*T*T+h*T*T+t*T:]\n",
    "\t\t\t\tdpreattBTH := dpreatt[b*NH*T*T+h*T*T+t*T:]\n",
    "\t\t\t\tdqueryT := dinp[b*T*C3+t*C3+h*hs:]\n",
    "\t\t\t\tqueryT := inp[b*T*C3+t*C3+h*hs:]\n",
    "\t\t\t\t// Backward pass 4: value accumulation\n",
    "\t\t\t\tdoutBTH := dout[b*T*C+t*C+h*hs:]\n",
    "\t\t\t\tfor t2 := 0; t2 <= t; t2++ {\n",
    "\t\t\t\t\tvalueT2 := inp[b*T*C3+t2*C3+h*hs+C*2:]\n",
    "\t\t\t\t\tdvalueT2 := dinp[b*T*C3+t2*C3+h*hs+C*2:]\n",
    "\t\t\t\t\tfor i := 0; i < hs; i++ {\n",
    "\t\t\t\t\t\t// Compute gradients for attention and value accumulation\n",
    "\t\t\t\t\t\tdattBTH[t2] += valueT2[i] * doutBTH[i]\n",
    "\t\t\t\t\t\tdvalueT2[i] += attBTH[t2] * doutBTH[i]\n",
    "\t\t\t\t\t}\n",
    "\t\t\t\t}\n",
    "\t\t\t\t// Backward pass 2 & 3: softmax backward\n",
    "\t\t\t\t// Softmax does not require input (preatt) to backward\n",
    "\t\t\t\tfor t2 := 0; t2 <= t; t2++ {\n",
    "\t\t\t\t\tfor t3 := 0; t3 <= t; t3++ {\n",
    "\t\t\t\t\t\tvar indicator float32\n",
    "\t\t\t\t\t\tif t2 == t3 {\n",
    "\t\t\t\t\t\t\tindicator = 1.0\n",
    "\t\t\t\t\t\t}\n",
    "\t\t\t\t\t\tlocalDerivative := attBTH[t2] * (indicator - attBTH[t3])\n",
    "\t\t\t\t\t\tdpreattBTH[t3] += localDerivative * dattBTH[t2]\n",
    "\t\t\t\t\t}\n",
    "\t\t\t\t}\n",
    "\t\t\t\t// Backward pass 1: query @ key matmul\n",
    "\t\t\t\tfor t2 := 0; t2 <= t; t2++ {\n",
    "\t\t\t\t\tkeyT2 := inp[b*T*C3+t2*C3+h*hs+C:]\n",
    "\t\t\t\t\tdkeyT2 := dinp[b*T*C3+t2*C3+h*hs+C:]\n",
    "\t\t\t\t\tfor i := 0; i < hs; i++ {\n",
    "\t\t\t\t\t\t// Compute gradients for query and key\n",
    "\t\t\t\t\t\tdqueryT[i] += keyT2[i] * dpreattBTH[t2] * scale\n",
    "\t\t\t\t\t\tdkeyT2[i] += queryT[i] * dpreattBTH[t2] * scale\n",
    "\t\t\t\t\t}\n",
    "\t\t\t\t}\n",
    "\t\t\t}\n",
    "\t\t}\n",
    "\t}\n",
    "}\n"
   ]
  },
  {
   "cell_type": "markdown",
   "id": "82151fff",
   "metadata": {
    "pycharm": {
     "name": "#%% md\n"
    }
   },
   "source": [
    "# matmulBackward\n",
    "The function computes the gradients of the inputs (dinp), weights (dweight), and biases (dbias) for a matrix multiplication operation. These gradients are necessary for adjusting the model parameters during training to minimize the error.\n",
    "\n",
    "\n",
    "dinp: A slice of floats representing the gradients of the outputs with respect to the inputs of the matrix multiplication. This is often calculated by the subsequent layer in the network.\n",
    "dweight: A slice of floats representing the gradients of the outputs with respect to the weights. Initially, this slice is filled with zeros.\n",
    "dbias: A slice of floats representing the gradients of the outputs with respect to the biases. Initially, this slice is filled with zeros.\n",
    "dout: A slice of floats representing the outputs of the matrix multiplication.\n",
    "inp: A slice of floats representing the inputs to the matrix multiplication.\n",
    "weight: A slice of floats representing the weights of the matrix multiplication.\n",
    "B: The batch size (number of samples).\n",
    "T: The time steps or sequence length.\n",
    "C: The number of input features.\n",
    "OC: The number of output features.\n",
    "\n",
    "[back to top](#Introduction)"
   ]
  },
  {
   "cell_type": "code",
   "execution_count": 30,
   "id": "068dc94c",
   "metadata": {
    "collapsed": false,
    "jupyter": {
     "outputs_hidden": false
    },
    "pycharm": {
     "name": "#%%\n"
    }
   },
   "outputs": [],
   "source": [
    "func matmulBackward(dinp, dweight, dbias, dout, inp, weight []float32, B, T, C, OC int) {\n",
    "\tvar wg sync.WaitGroup\n",
    "\tfor b := 0; b < B; b++ {\n",
    "\t\tfor t := 0; t < T; t++ {\n",
    "\t\t\twg.Add(1)\n",
    "\t\t\tgo func(b, t int) {\n",
    "\t\t\t\tdefer wg.Done()\n",
    "\t\t\t\tdoutBt := dout[b*T*OC+t*OC:]\n",
    "\t\t\t\tdinpBt := dinp[b*T*C+t*C:]\n",
    "\t\t\t\tfor o := 0; o < OC; o++ {\n",
    "\t\t\t\t\twrow := weight[o*C:]\n",
    "\t\t\t\t\td := doutBt[o]\n",
    "\t\t\t\t\tfor i := 0; i < C; i++ {\n",
    "\t\t\t\t\t\tdinpBt[i] += wrow[i] * d\n",
    "\t\t\t\t\t}\n",
    "\t\t\t\t}\n",
    "\t\t\t}(b, t)\n",
    "\t\t}\n",
    "\t}\n",
    "\twg.Wait()\n",
    "\tfor o := 0; o < OC; o++ {\n",
    "\t\twg.Add(1)\n",
    "\t\tgo func(o int) {\n",
    "\t\t\tdefer wg.Done()\n",
    "\t\t\tfor b := 0; b < B; b++ {\n",
    "\t\t\t\tfor t := 0; t < T; t++ {\n",
    "\t\t\t\t\tdoutBt := dout[b*T*OC+t*OC:]\n",
    "\t\t\t\t\tinpBt := inp[b*T*C+t*C:]\n",
    "\t\t\t\t\tdwrow := dweight[o*C:]\n",
    "\t\t\t\t\td := doutBt[o]\n",
    "\t\t\t\t\tif dbias != nil {\n",
    "\t\t\t\t\t\tdbias[o] += d\n",
    "\t\t\t\t\t}\n",
    "\t\t\t\t\tfor i := 0; i < C; i++ {\n",
    "\t\t\t\t\t\tdwrow[i] += inpBt[i] * d\n",
    "\t\t\t\t\t}\n",
    "\t\t\t\t}\n",
    "\t\t\t}\n",
    "\t\t}(o)\n",
    "\t}\n",
    "\twg.Wait()\n",
    "}\n"
   ]
  },
  {
   "cell_type": "markdown",
   "id": "3dfdfb47",
   "metadata": {
    "pycharm": {
     "name": "#%% md\n"
    }
   },
   "source": [
    "# encoderBackward\n",
    "encoderBackward calculates gradients during backpropagation\n",
    "Parameters:\n",
    "  - dwte: gradients with respect to word embeddings (wte)\n",
    "  - dwpe: gradients with respect to positional embeddings (wpe)\n",
    "  - dout: the gradient to apply to dwte and dwpe\n",
    "  - inp: input tokens (ids that refer to indexes within wte)\n",
    "  - B: batch size\n",
    "  - T: sequence length (number of time steps)\n",
    "  - C: embedding dimension (number of features)\n",
    "  \n",
    "  \n",
    " [back to top](#Introduction)"
   ]
  },
  {
   "cell_type": "code",
   "execution_count": 31,
   "id": "9cf39fee",
   "metadata": {
    "collapsed": false,
    "jupyter": {
     "outputs_hidden": false
    },
    "pycharm": {
     "name": "#%%\n"
    }
   },
   "outputs": [],
   "source": [
    "\n",
    "func encoderBackward(dwte, dwpe []float32, dout []float32, inp []int32, B, T, C int) {\n",
    "\t// Iterate over the batch and time steps\n",
    "\tfor b := 0; b < B; b++ {\n",
    "\t\tfor t := 0; t < T; t++ {\n",
    "\t\t\t// Calculate offsets for indexing\n",
    "\t\t\tdoutBTOffset := b*T*C + t*C\n",
    "\t\t\tix := inp[b*T+t]              // Get the input token id\n",
    "\t\t\tdwteIxOffset := ix * int32(C) // Calculate the offset for dwte\n",
    "\t\t\tdwpeTOffset := t * C          // Calculate the offset for dwpe\n",
    "\n",
    "\t\t\t// Iterate over the embedding dimension and apply computations\n",
    "\t\t\tfor i := 0; i < C; i++ {\n",
    "\t\t\t\t// Get the gradient value from dout\n",
    "\t\t\t\td := dout[doutBTOffset+i]\n",
    "\t\t\t\t// Update the gradients for word embeddings (dwte) and positional embeddings (dwpe)\n",
    "\t\t\t\tdwte[dwteIxOffset+int32(i)] += d\n",
    "\t\t\t\tdwpe[dwpeTOffset+i] += d\n",
    "\t\t\t}\n",
    "\t\t}\n",
    "\t}\n",
    "}"
   ]
  },
  {
   "cell_type": "code",
   "execution_count": 32,
   "id": "beb4be1e",
   "metadata": {
    "collapsed": false,
    "jupyter": {
     "outputs_hidden": false
    },
    "pycharm": {
     "name": "#%%\n"
    }
   },
   "outputs": [],
   "source": [
    "\n",
    "func (model *GPT2) ZeroGradient() {\n",
    "\tfor i := range model.GradsActs.Memory {\n",
    "\t\tmodel.GradsActs.Memory[i] = 0.0\n",
    "\t}\n",
    "\tfor i := range model.Grads.Memory {\n",
    "\t\tmodel.Grads.Memory[i] = 0.0\n",
    "\t}\n",
    "}\n"
   ]
  },
  {
   "cell_type": "markdown",
   "id": "682d576f",
   "metadata": {
    "pycharm": {
     "name": "#%% md\n"
    }
   },
   "source": [
    "## Optimiser\n",
    "\n",
    "The optimiser implementation keeps track of the weights that are being changed, and how fast they're being changed. \n",
    "\n",
    "Most neural network back propagation algorithms use AdamW, which is a weight-decay ontop of the Adam optimiser. \n",
    "\n",
    "\n",
    "### Papers\n",
    "\n",
    "- [**Adam: A Method for Stochastic Optimization**](https://arxiv.org/abs/1412.6980) - Introduced the Adam optimiser.\n",
    "- [**DECOUPLED WEIGHT DECAY REGULARIZATION**](https://arxiv.org/abs/1711.05101) - Introduces AdamW optimiser used in the first transformer. Adam with weight where weight increases as time goes on.\n",
    "\n",
    "[back to top](#Introduction)"
   ]
  },
  {
   "cell_type": "markdown",
   "id": "84a09058-4ddc-4c3e-b33b-c6e3dbcba5ff",
   "metadata": {},
   "source": [
    "## Optimiser\n",
    "\n",
    "The optimiser implementation keeps track of the weights that are being changed, and how fast they're being changed. \n",
    "\n",
    "Most neural network back propagation algorithms use AdamW, which is a weight-decay ontop of the Adam optimiser. \n",
    "\n",
    "\n",
    "### Papers\n",
    "\n",
    "- [**Adam: A Method for Stochastic Optimization**](https://arxiv.org/abs/1412.6980) - Introduced the Adam optimiser.\n",
    "- [**DECOUPLED WEIGHT DECAY REGULARIZATION**](https://arxiv.org/abs/1711.05101) - Introduces AdamW optimiser used in the first transformer. Adam with weight where weight increases as time goes on.\n",
    "\n",
    "[back to top](#Introduction)"
   ]
  },
  {
   "cell_type": "code",
   "execution_count": 33,
   "id": "275503ff-b344-4f1c-9619-b3c9c1dc9956",
   "metadata": {
    "pycharm": {
     "name": "#%%\n"
    }
   },
   "outputs": [],
   "source": [
    "func (model *GPT2) Update(learningRate, beta1, beta2, eps, weightDecay float32, t int) {\n",
    "\t// Lazy memory allocation\n",
    "\tif model.MMemory == nil {\n",
    "\t\tmodel.MMemory = make([]float32, model.Params.Len())\n",
    "\t\tmodel.VMemory = make([]float32, model.Params.Len())\n",
    "\t}\n",
    "\t// Parameter updates\n",
    "\tfor i := 0; i < model.Params.Len(); i++ {\n",
    "\t\tparameter := model.Params.Memory[i]\n",
    "\t\tgradient := model.Grads.Memory[i]\n",
    "\t\t// Momentum update\n",
    "\t\tm := beta1*model.MMemory[i] + (1.0-beta1)*gradient\n",
    "\t\t// RMSprop update\n",
    "\t\tv := beta2*model.VMemory[i] + (1.0-beta2)*gradient*gradient\n",
    "\t\t// Bias correction\n",
    "\t\tmHat := m / (1.0 - Pow(beta1, float32(t)))\n",
    "\t\tvHat := v / (1.0 - Pow(beta2, float32(t)))\n",
    "\t\t// Parameter update\n",
    "\t\tmodel.MMemory[i] = m\n",
    "\t\tmodel.VMemory[i] = v\n",
    "\t\tmodel.Params.Memory[i] -= learningRate * (mHat/(Sqrt(vHat)+eps) + weightDecay*parameter)\n",
    "\t}\n",
    "}\n"
   ]
  },
  {
   "cell_type": "code",
   "execution_count": 34,
   "id": "ada64c1b-6e14-45cd-99c7-b04139e07726",
   "metadata": {
    "pycharm": {
     "name": "#%%\n"
    }
   },
   "outputs": [],
   "source": [
    "\n",
    "func (model *GPT2) Backward() error {\n",
    "\t//// double check we forwarded previously, with targets\n",
    "\tif model.MeanLoss == -1.0 {\n",
    "\t\treturn errors.New(\"error: must forward with targets before backward\")\n",
    "\t}\n",
    "\t// lazily allocate the memory for gradients of the weights and activations, if needed\n",
    "\t// convenience shortcuts\n",
    "\tB, T, V, L, NH, C := model.B, model.T, model.Config.V, model.Config.L, model.Config.NH, model.Config.C\n",
    "\tif len(model.Grads.Memory) == 0 {\n",
    "\t\tmodel.Grads.Init(V, C, model.Config.MaxSeqLen, L)\n",
    "\t\tmodel.GradsActs.Init(B, C, T, L, NH, V)\n",
    "\t\tmodel.ZeroGradient()\n",
    "\t}\n",
    "\t// backward pass\n",
    "\tparams, grads, acts, gradsActs := model.Params, model.Grads, model.Acts, model.GradsActs\n",
    "\t// we kick off the chain by filling in dlosses with 1.0f/(B*T), to get the mean loss\n",
    "\tdlossMean := 1.0 / float32(B*T)\n",
    "\tfor i := range gradsActs.Losses.data {\n",
    "\t\tgradsActs.Losses.data[i] = dlossMean\n",
    "\t}\n",
    "\tcrossentropySoftmaxBackward(gradsActs.Logits.data, gradsActs.Losses.data, acts.Probabilities.data, model.Targets, B, T, V)\n",
    "\tmatmulBackward(gradsActs.LayerNormFinal.data, grads.WordTokEmbed.data, nil, gradsActs.Logits.data, acts.LayerNormFinal.data, params.WordTokEmbed.data, B, T, C, V)\n",
    "\tresidual := acts.Residual3.data[(L-1)*B*T*C:]       // last layer's residual\n",
    "\tdresidual := gradsActs.Residual3.data[(L-1)*B*T*C:] // write to last layer's residual\n",
    "\tlayernormBackward(dresidual, grads.LayerFinNormW.data, grads.LayerFinNormB.data, gradsActs.LayerNormFinal.data, residual, params.LayerFinNormW.data, acts.LayerNormFinalMean.data, acts.LayerNormFinalStd.data, B, T, C)\n",
    "\tfor l := L - 1; l >= 0; l-- {\n",
    "\t\tif l == 0 {\n",
    "\t\t\tresidual = acts.Encoded.data\n",
    "\t\t\tdresidual = gradsActs.Encoded.data\n",
    "\t\t} else {\n",
    "\t\t\tresidual = acts.Residual3.data[(l-1)*B*T*C:]\n",
    "\t\t\tdresidual = gradsActs.Residual3.data[(l-1)*B*T*C:]\n",
    "\t\t}\n",
    "\n",
    "\t\t// Assuming you have a 'params' variable of your ParameterTensors type\n",
    "\t\tl_ln1w := params.LayerNorm1W.data[l*C:]\n",
    "\t\tl_qkvw := params.QueryKeyValW.data[l*3*C*C:]\n",
    "\t\tl_attprojw := params.AttProjW.data[l*C*C:]\n",
    "\t\tl_ln2w := params.Layer2NormW.data[l*C:]\n",
    "\t\tl_fcw := params.FeedFwdW.data[l*4*C*C:]\n",
    "\t\tl_fcprojw := params.FeedFwdProjW.data[l*C*4*C:]\n",
    "\t\t// Gradients of weights\n",
    "\t\tdl_ln1w := grads.LayerNorm1W.data[l*C:]\n",
    "\t\tdl_ln1b := grads.LayerNorm1B.data[l*C:]\n",
    "\t\tdl_qkvw := grads.QueryKeyValW.data[l*3*C*C:]\n",
    "\t\tdl_qkvb := grads.QueryKeyValB.data[l*3*C:]\n",
    "\t\tdl_attprojw := grads.AttProjW.data[l*C*C:]\n",
    "\t\tdl_attprojb := grads.AttProjB.data[l*C:]\n",
    "\t\tdl_ln2w := grads.Layer2NormW.data[l*C:]\n",
    "\t\tdl_ln2b := grads.Layer2NormB.data[l*C:]\n",
    "\t\tdl_fcw := grads.FeedFwdW.data[l*4*C*C:]\n",
    "\t\tdl_fcb := grads.FeedFwdB.data[l*4*C:]\n",
    "\t\tdl_fcprojw := grads.FeedFwdProjW.data[l*C*4*C:]\n",
    "\t\tdl_fcprojb := grads.FeedFwdProjB.data[l*C:]\n",
    "\t\t// Activations\n",
    "\t\tl_ln1 := acts.Layer1Act.data[l*B*T*C:]\n",
    "\t\tl_ln1_mean := acts.LayerNorm1Mean.data[l*B*T:]\n",
    "\t\tl_ln1_rstd := acts.LayerNorm1Rstd.data[l*B*T:]\n",
    "\t\tl_qkv := acts.QueryKeyVal.data[l*B*T*3*C:]\n",
    "\t\tl_atty := acts.AttentionInter.data[l*B*T*C:]\n",
    "\t\tl_att := acts.Attention.data[l*B*NH*T*T:]\n",
    "\t\tl_residual2 := acts.Residual2.data[l*B*T*C:]\n",
    "\t\tl_ln2 := acts.LayerNorm2Act.data[l*B*T*C:]\n",
    "\t\tl_ln2_mean := acts.LayerNorm2Mean.data[l*B*T:]\n",
    "\t\tl_ln2_rstd := acts.LayerNorm2Rstd.data[l*B*T:]\n",
    "\t\tl_fch := acts.FeedForward.data[l*B*T*4*C:]\n",
    "\t\tl_fch_gelu := acts.FeedForwardGelu.data[l*B*T*4*C:]\n",
    "\n",
    "\t\tdl_ln1 := gradsActs.Layer1Act.data[l*B*T*C:]\n",
    "\t\tdl_qkv := gradsActs.QueryKeyVal.data[l*B*T*3*C:]\n",
    "\t\tdl_atty := gradsActs.AttentionInter.data[l*B*T*C:]\n",
    "\t\tdl_preatt := gradsActs.PreAttention.data[l*B*NH*T*T:]\n",
    "\t\tdl_att := gradsActs.Attention.data[l*B*NH*T*T:]\n",
    "\t\tdl_attproj := gradsActs.AttentionProj.data[l*B*T*C:]\n",
    "\t\tdl_residual2 := gradsActs.Residual2.data[l*B*T*C:]\n",
    "\t\tdl_ln2 := gradsActs.LayerNorm2Act.data[l*B*T*C:]\n",
    "\t\tdl_fch := gradsActs.FeedForward.data[l*B*T*4*C:]\n",
    "\t\tdl_fch_gelu := gradsActs.FeedForwardGelu.data[l*B*T*4*C:]\n",
    "\t\tdl_fcproj := gradsActs.FeedForwardProj.data[l*B*T*C:]\n",
    "\t\tdl_residual3 := gradsActs.Residual3.data[l*B*T*C:]\n",
    "\t\tresidualBackward(dl_residual2, dl_fcproj, dl_residual3, B*T*C)\n",
    "\t\tmatmulBackward(dl_fch_gelu, dl_fcprojw, dl_fcprojb, dl_fcproj, l_fch_gelu, l_fcprojw, B, T, 4*C, C)\n",
    "\t\tgeluBackward(dl_fch, l_fch, dl_fch_gelu, B*T*4*C)\n",
    "\t\tmatmulBackward(dl_ln2, dl_fcw, dl_fcb, dl_fch, l_ln2, l_fcw, B, T, C, 4*C)\n",
    "\t\tlayernormBackward(dl_residual2, dl_ln2w, dl_ln2b, dl_ln2, l_residual2, l_ln2w, l_ln2_mean, l_ln2_rstd, B, T, C)\n",
    "\t\tresidualBackward(dresidual, dl_attproj, dl_residual2, B*T*C)\n",
    "\t\tmatmulBackward(dl_atty, dl_attprojw, dl_attprojb, dl_attproj, l_atty, l_attprojw, B, T, C, C)\n",
    "\t\tattentionBackward(dl_qkv, dl_preatt, dl_att, dl_atty, l_qkv, l_att, B, T, C, NH)\n",
    "\t\tmatmulBackward(dl_ln1, dl_qkvw, dl_qkvb, dl_qkv, l_ln1, l_qkvw, B, T, C, 3*C)\n",
    "\t\tlayernormBackward(dresidual, dl_ln1w, dl_ln1b, dl_ln1, residual, l_ln1w, l_ln1_mean, l_ln1_rstd, B, T, C)\n",
    "\t}\n",
    "\t// Here we want to apply our gradients to our encoded data.\n",
    "\tencoderBackward(grads.WordTokEmbed.data, grads.WordPosEmbed.data, gradsActs.Encoded.data, model.Inputs, B, T, C)\n",
    "\treturn nil\n",
    "}\n"
   ]
  },
  {
   "cell_type": "code",
   "execution_count": 35,
   "id": "8db1366e-a3de-42ff-88d9-aecc8559f7b6",
   "metadata": {
    "pycharm": {
     "name": "#%%\n"
    }
   },
   "outputs": [],
   "source": [
    "\n",
    "func (model *GPT2) Train(valDataloader, trainDataloader *DataLoader, B, T int) error {\n",
    "\tfmt.Printf(\"train dataset num_batches: %d\\n\", valDataloader.NumBatches)\n",
    "\tconst genMaxLength, valNumBatches = 20, 3\n",
    "\tfor step := 0; step <= 3; step++ {\n",
    "\t\tif step%1 == 0 {\n",
    "\t\t\tvar valLoss float32\n",
    "\t\t\tvalDataloader.Reset()\n",
    "\t\t\tfor i := 0; i < valNumBatches; i++ {\n",
    "\t\t\t\tinput, target, err := valDataloader.NextBatch()\n",
    "\t\t\t\tif err != nil {\n",
    "\t\t\t\t\treturn err\n",
    "\t\t\t\t}\n",
    "\t\t\t\tmodel.Forward(input, target, B, T)\n",
    "\t\t\t\tvalLoss += model.MeanLoss\n",
    "\t\t\t}\n",
    "\t\t\tvalLoss /= float32(valNumBatches)\n",
    "\t\t\tfmt.Printf(\"val loss %f\\n\", valLoss)\n",
    "\t\t}\n",
    "\t\t// do a training step\n",
    "\t\tstart := time.Now()\n",
    "\t\tinput, targets, err := trainDataloader.NextBatch()\n",
    "\t\tif err != nil {\n",
    "\t\t\treturn err\n",
    "\t\t}\n",
    "\t\tmodel.Forward(input, targets, B, T)\n",
    "\t\tmodel.ZeroGradient()\n",
    "\t\tmodel.Backward()\n",
    "\t\tmodel.Update(1e-4, 0.9, 0.999, 1e-8, 0.0, step+1)\n",
    "\t\tfmt.Printf(\"step %d: train loss %f (took %v ms)\\n\", step, model.MeanLoss, time.Since(start))\n",
    "\t}\n",
    "\treturn nil\n",
    "}"
   ]
  },
  {
   "cell_type": "code",
   "execution_count": 36,
   "id": "71cded43-3dbe-4730-a6a5-62c7352c5ddf",
   "metadata": {
    "pycharm": {
     "name": "#%%\n"
    }
   },
   "outputs": [
    {
     "name": "stderr",
     "output_type": "stream",
     "text": [
      "2024/08/26 17:53:26 Error opening model file: open ./gpt2_124M.bin: no such file or directory\n",
      "exit status 1\n"
     ]
    }
   ],
   "source": [
    "%main\n",
    "model, err := LoadGPT2Model(\"./gpt2_124M.bin\", \"./gpt2_tokenizer.bin\")\n",
    "if err != nil {\n",
    "    log.Fatal(err)\n",
    "}\n",
    "B, T := 4, 64\n",
    "trainDataloader, err := NewDataLoader(\"./TinyStories_train.bin\", B, T)\n",
    "if err != nil {\n",
    "    log.Fatal(err)\n",
    "}\n",
    "fmt.Printf(\"train dataset num_batches: %d\\n\", trainDataloader.NumBatches)\n",
    "valDataloader, err := NewDataLoader(\"./TinyStories_val.bin\", B, T)\n",
    "if err != nil {\n",
    "    log.Fatal(err)\n",
    "}\n",
    "if err := model.Train(valDataloader, trainDataloader, B, T); err != nil {\n",
    "    log.Fatal(err)\n",
    "}"
   ]
  },
  {
   "cell_type": "markdown",
   "id": "0e7472ce-8c55-4c90-a607-272e56ab5958",
   "metadata": {},
   "source": [
    "![](qr-code.png)"
   ]
  },
  {
   "cell_type": "code",
   "execution_count": null,
   "id": "adc4efed-4110-4343-9680-29580169a2c2",
   "metadata": {},
   "outputs": [],
   "source": []
  }
 ],
 "metadata": {
  "kernelspec": {
   "display_name": "Go (gonb)",
   "language": "go",
   "name": "gonb"
  },
  "language_info": {
   "codemirror_mode": "",
   "file_extension": ".go",
   "mimetype": "",
   "name": "go",
   "nbconvert_exporter": "",
   "pygments_lexer": "",
   "version": "go1.22.2"
  }
 },
 "nbformat": 4,
 "nbformat_minor": 5
}
