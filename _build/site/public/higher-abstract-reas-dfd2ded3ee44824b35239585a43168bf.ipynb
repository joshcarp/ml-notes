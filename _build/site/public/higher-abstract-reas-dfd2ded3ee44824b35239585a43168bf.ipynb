{
 "cells": [
  {
   "cell_type": "markdown",
   "metadata": {},
   "source": [
    "# Transformers and Higher-Order Abstract Reasoning\n",
    "\n",
    ":::{warning}\n",
    "This is a work in progress.\n",
    ":::\n",
    "\n",
    "The idea here is to investigate what distribution trnsformers learn when learning from more concrete \"lower abstract\" sequences that are generated from a \"higher abstract\" grammar. The idea here is that with benchmarks like ARC AGI there's the idea that the current state of LLMS are inherently limited in their ability to be able to actually do \"higher abstraction thinking\". \n",
    "\n",
    "In this experiment we:\n",
    "- Define a high abtraction grammar with actions \"REPEAT\", \"ALTERNATE\", and \"REVERSE\" and a small vocab \"ABC\"\n",
    "- Enumerate all sequences over a certain length\n",
    "- Train a transformer over the concrete sequences, and compare the distribution that the transformer learns, and compare this to the original higher level vocab. \n"
   ]
  },
  {
   "cell_type": "markdown",
   "metadata": {},
   "source": [
    "## 1. High Abstraction Grammar\n",
    "The grammar would be defined as:\n",
    "\n",
    "```\n",
    "/* Non-terminals */\n",
    "EXPR ::= REPEAT | ALTERNATE | REVERSE | ATOM\n",
    "\n",
    "/* Basic atoms */\n",
    "ATOM ::= \"A\" | \"B\" | \"C\"\n",
    "\n",
    "/* Repeat operation with count */\n",
    "REPEAT ::= \"REPEAT\" \"(\" NUMBER \",\" ATOM \")\"\n",
    "NUMBER ::= [1-9][0-9]*\n",
    "\n",
    "/* Alternate between two atoms N times */\n",
    "ALTERNATE ::= \"ALTERNATE\" \"(\" NUMBER \",\" ATOM \",\" ATOM \")\"\n",
    "\n",
    "/* Reverse a sequence of atoms */\n",
    "REVERSE ::= \"REVERSE\" \"(\" SEQUENCE \")\"\n",
    "SEQUENCE ::= ATOM | ATOM \",\" SEQUENCE\n",
    "```"
   ]
  }
 ],
 "metadata": {
  "kernelspec": {
   "display_name": "Python 3",
   "language": "python",
   "name": "python3"
  },
  "language_info": {
   "codemirror_mode": {
    "name": "ipython",
    "version": 3
   },
   "file_extension": ".py",
   "mimetype": "text/x-python",
   "name": "python",
   "nbconvert_exporter": "python",
   "pygments_lexer": "ipython3",
   "version": "3.8.0"
  }
 },
 "nbformat": 4,
 "nbformat_minor": 4
}
